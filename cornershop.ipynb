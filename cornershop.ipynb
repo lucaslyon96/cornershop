{
  "nbformat": 4,
  "nbformat_minor": 0,
  "metadata": {
    "colab": {
      "name": "cornershop.ipynb",
      "provenance": [],
      "collapsed_sections": [],
      "toc_visible": true
    },
    "kernelspec": {
      "name": "python3",
      "display_name": "Python 3"
    },
    "language_info": {
      "name": "python"
    }
  },
  "cells": [
    {
      "cell_type": "markdown",
      "metadata": {
        "id": "HrmKHDOqfvfz"
      },
      "source": [
        "# Introdution \n",
        "The problem is to find a way to predict how much time some orders will take after receiving some kind of parameters, for example, the latitude and longitude of the store and the shopper(Who will do the purchase at the store), and also we have some more parameters. This is a problem of Cornershop and a good challenge to be solved. I used google colab and the python language to solve this problem. \n",
        "\n",
        "OBS.: If you want to be run only what you need to generate the model I include the (Run) on the inside of the title. "
      ]
    },
    {
      "cell_type": "markdown",
      "metadata": {
        "id": "ZY1jPR3VeyR4"
      },
      "source": [
        "# Import data (Run)"
      ]
    },
    {
      "cell_type": "markdown",
      "metadata": {
        "id": "jqiDOHf4eX_N"
      },
      "source": [
        "The first step is to upload the data and start the EDA to do the right choices"
      ]
    },
    {
      "cell_type": "code",
      "metadata": {
        "colab": {
          "base_uri": "https://localhost:8080/"
        },
        "id": "KUjZJaoFowvP",
        "outputId": "9e7daad3-58ee-4657-cfe6-8432dca9f41a"
      },
      "source": [
        "!pip install pyspark"
      ],
      "execution_count": 1,
      "outputs": [
        {
          "output_type": "stream",
          "name": "stdout",
          "text": [
            "Requirement already satisfied: pyspark in /usr/local/lib/python3.7/dist-packages (3.2.0)\n",
            "Requirement already satisfied: py4j==0.10.9.2 in /usr/local/lib/python3.7/dist-packages (from pyspark) (0.10.9.2)\n"
          ]
        }
      ]
    },
    {
      "cell_type": "code",
      "metadata": {
        "id": "v2qIETDJop1v"
      },
      "source": [
        "from pyspark.sql import SparkSession\n",
        "spark = SparkSession.builder.appName('cornershop').getOrCreate()"
      ],
      "execution_count": 2,
      "outputs": []
    },
    {
      "cell_type": "markdown",
      "metadata": {
        "id": "jz5U0UwwyWUL"
      },
      "source": [
        "The spark can be used when we need to create some changes in dataFrame. When I finish I verify that don't need to use spark because the data is not so big. "
      ]
    },
    {
      "cell_type": "code",
      "metadata": {
        "id": "fXNH564Icz4W",
        "colab": {
          "base_uri": "https://localhost:8080/"
        },
        "outputId": "aefbfaf1-016e-4cae-e4ef-6edc6429d929"
      },
      "source": [
        "import pandas as pd\n",
        "import numpy as np\n",
        "import seaborn as sns\n",
        "import matplotlib.pyplot as plt\n",
        "%matplotlib inline\n",
        "import statsmodels.formula.api as smf\n",
        "from sklearn import linear_model\n",
        "from sklearn.model_selection import train_test_split\n",
        "from xgboost import XGBRegressor\n",
        "from sklearn.metrics import mean_absolute_error, accuracy_score\n",
        "\n",
        "order_product = pd.read_csv(\"/content/drive/MyDrive/Cornershoper/data/order_products.csv\")\n",
        "orders = pd.read_csv(\"/content/drive/MyDrive/Cornershoper/data/orders.csv\")\n",
        "shoppers = pd.read_csv(\"/content/drive/MyDrive/Cornershoper/data/shoppers.csv\")\n",
        "store = pd.read_csv(\"/content/drive/MyDrive/Cornershoper/data/storebranch.csv\")"
      ],
      "execution_count": 3,
      "outputs": [
        {
          "output_type": "stream",
          "name": "stderr",
          "text": [
            "/usr/local/lib/python3.7/dist-packages/statsmodels/tools/_testing.py:19: FutureWarning: pandas.util.testing is deprecated. Use the functions in the public API at pandas.testing instead.\n",
            "  import pandas.util.testing as tm\n"
          ]
        }
      ]
    },
    {
      "cell_type": "markdown",
      "metadata": {
        "id": "jaFW4M2uhN_t"
      },
      "source": [
        "Obs.: We will first take a look at each data and see what features we can use into our model, then we see how we could join these data to use together, so we already know that we need to have the order_id and product_id will be one of our keys to join the data."
      ]
    },
    {
      "cell_type": "markdown",
      "metadata": {
        "id": "I1xHdT2ETU_t"
      },
      "source": [
        "I decide to use and abuse text to explain each step. So you don't see many functions here. "
      ]
    },
    {
      "cell_type": "markdown",
      "metadata": {
        "id": "rv5svTaTe4U2"
      },
      "source": [
        "# EDA order_product"
      ]
    },
    {
      "cell_type": "markdown",
      "metadata": {
        "id": "FO_vlzkCe8Ow"
      },
      "source": [
        "Now let's take a look inside each dataset and do some notes. \n",
        "The first is the order_product:\n",
        "- order_id: ID of the order\n",
        "- product_id: ID of the product\n",
        "- quantity: The quantity ordered of this product\n",
        "- buy_unit: The unit of the product (KG/UN)\n",
        "\n"
      ]
    },
    {
      "cell_type": "code",
      "metadata": {
        "colab": {
          "base_uri": "https://localhost:8080/"
        },
        "id": "EPEnTwILfD5R",
        "outputId": "6f5ced40-96e2-4f63-a92d-954070519906"
      },
      "source": [
        "order_product.info() #the idea of use info is to see the types of each feature"
      ],
      "execution_count": 4,
      "outputs": [
        {
          "output_type": "stream",
          "name": "stdout",
          "text": [
            "<class 'pandas.core.frame.DataFrame'>\n",
            "RangeIndex: 198500 entries, 0 to 198499\n",
            "Data columns (total 4 columns):\n",
            " #   Column      Non-Null Count   Dtype  \n",
            "---  ------      --------------   -----  \n",
            " 0   order_id    198500 non-null  object \n",
            " 1   product_id  198500 non-null  object \n",
            " 2   quantity    198500 non-null  float64\n",
            " 3   buy_unit    198500 non-null  object \n",
            "dtypes: float64(1), object(3)\n",
            "memory usage: 6.1+ MB\n"
          ]
        }
      ]
    },
    {
      "cell_type": "code",
      "metadata": {
        "colab": {
          "base_uri": "https://localhost:8080/",
          "height": 206
        },
        "id": "yKlvfu12hsSM",
        "outputId": "efcd550f-ab94-4979-de2d-0b595dcdce9a"
      },
      "source": [
        "order_product.head()"
      ],
      "execution_count": 5,
      "outputs": [
        {
          "output_type": "execute_result",
          "data": {
            "text/html": [
              "<div>\n",
              "<style scoped>\n",
              "    .dataframe tbody tr th:only-of-type {\n",
              "        vertical-align: middle;\n",
              "    }\n",
              "\n",
              "    .dataframe tbody tr th {\n",
              "        vertical-align: top;\n",
              "    }\n",
              "\n",
              "    .dataframe thead th {\n",
              "        text-align: right;\n",
              "    }\n",
              "</style>\n",
              "<table border=\"1\" class=\"dataframe\">\n",
              "  <thead>\n",
              "    <tr style=\"text-align: right;\">\n",
              "      <th></th>\n",
              "      <th>order_id</th>\n",
              "      <th>product_id</th>\n",
              "      <th>quantity</th>\n",
              "      <th>buy_unit</th>\n",
              "    </tr>\n",
              "  </thead>\n",
              "  <tbody>\n",
              "    <tr>\n",
              "      <th>0</th>\n",
              "      <td>47099653730fb1b76537fc10ad876255</td>\n",
              "      <td>c1244453d731c77416cb4766e3bd76cb</td>\n",
              "      <td>1.0</td>\n",
              "      <td>UN</td>\n",
              "    </tr>\n",
              "    <tr>\n",
              "      <th>1</th>\n",
              "      <td>689d8866915acf87e851c2591a23a82f</td>\n",
              "      <td>43cc2b100bec640fe563cd16f2db669f</td>\n",
              "      <td>1.0</td>\n",
              "      <td>KG</td>\n",
              "    </tr>\n",
              "    <tr>\n",
              "      <th>2</th>\n",
              "      <td>f26d16bf6f38c9e31d0be877f4013a9e</td>\n",
              "      <td>b8f880759d014134e272d881d49989a2</td>\n",
              "      <td>1.0</td>\n",
              "      <td>UN</td>\n",
              "    </tr>\n",
              "    <tr>\n",
              "      <th>3</th>\n",
              "      <td>161ccc896835ab41761b0e726becb6b1</td>\n",
              "      <td>dbc062b9bef805d27a6f4bea7edfe1f1</td>\n",
              "      <td>1.0</td>\n",
              "      <td>UN</td>\n",
              "    </tr>\n",
              "    <tr>\n",
              "      <th>4</th>\n",
              "      <td>4713deca10bb5db98fae150b52d61fc0</td>\n",
              "      <td>93a060f269bb569398921100f84c519a</td>\n",
              "      <td>2.0</td>\n",
              "      <td>UN</td>\n",
              "    </tr>\n",
              "  </tbody>\n",
              "</table>\n",
              "</div>"
            ],
            "text/plain": [
              "                           order_id  ... buy_unit\n",
              "0  47099653730fb1b76537fc10ad876255  ...       UN\n",
              "1  689d8866915acf87e851c2591a23a82f  ...       KG\n",
              "2  f26d16bf6f38c9e31d0be877f4013a9e  ...       UN\n",
              "3  161ccc896835ab41761b0e726becb6b1  ...       UN\n",
              "4  4713deca10bb5db98fae150b52d61fc0  ...       UN\n",
              "\n",
              "[5 rows x 4 columns]"
            ]
          },
          "metadata": {},
          "execution_count": 5
        }
      ]
    },
    {
      "cell_type": "markdown",
      "metadata": {
        "id": "vd98u1lwTpW6"
      },
      "source": [
        "Do we have some NaN values?"
      ]
    },
    {
      "cell_type": "code",
      "metadata": {
        "colab": {
          "base_uri": "https://localhost:8080/"
        },
        "id": "Am-fpH09iXzc",
        "outputId": "81ce80e0-9bef-4a7b-f83c-a94844056211"
      },
      "source": [
        "order_product.isnull().sum()"
      ],
      "execution_count": 6,
      "outputs": [
        {
          "output_type": "execute_result",
          "data": {
            "text/plain": [
              "order_id      0\n",
              "product_id    0\n",
              "quantity      0\n",
              "buy_unit      0\n",
              "dtype: int64"
            ]
          },
          "metadata": {},
          "execution_count": 6
        }
      ]
    },
    {
      "cell_type": "markdown",
      "metadata": {
        "id": "_1A147j1icdw"
      },
      "source": [
        "Any NaN values, so we don't need to think about this by now! "
      ]
    },
    {
      "cell_type": "markdown",
      "metadata": {
        "id": "tue5iU6dfxfb"
      },
      "source": [
        "This dataset for example has only as a float value the quantity, so we know that this is us **Quantitative variable** and buy_unit is **Qualitative variable**, the order and product id will be us key for joins, so let's take a look at the quantity describe! "
      ]
    },
    {
      "cell_type": "code",
      "metadata": {
        "colab": {
          "base_uri": "https://localhost:8080/",
          "height": 300
        },
        "id": "WspZN0CkfW1b",
        "outputId": "00b83c18-b425-4755-f391-41025570ed45"
      },
      "source": [
        "order_product.describe() #The idea here we can see some statistic things for the quantitative variables"
      ],
      "execution_count": 7,
      "outputs": [
        {
          "output_type": "execute_result",
          "data": {
            "text/html": [
              "<div>\n",
              "<style scoped>\n",
              "    .dataframe tbody tr th:only-of-type {\n",
              "        vertical-align: middle;\n",
              "    }\n",
              "\n",
              "    .dataframe tbody tr th {\n",
              "        vertical-align: top;\n",
              "    }\n",
              "\n",
              "    .dataframe thead th {\n",
              "        text-align: right;\n",
              "    }\n",
              "</style>\n",
              "<table border=\"1\" class=\"dataframe\">\n",
              "  <thead>\n",
              "    <tr style=\"text-align: right;\">\n",
              "      <th></th>\n",
              "      <th>quantity</th>\n",
              "    </tr>\n",
              "  </thead>\n",
              "  <tbody>\n",
              "    <tr>\n",
              "      <th>count</th>\n",
              "      <td>198500.000000</td>\n",
              "    </tr>\n",
              "    <tr>\n",
              "      <th>mean</th>\n",
              "      <td>1.824126</td>\n",
              "    </tr>\n",
              "    <tr>\n",
              "      <th>std</th>\n",
              "      <td>1.905529</td>\n",
              "    </tr>\n",
              "    <tr>\n",
              "      <th>min</th>\n",
              "      <td>0.055000</td>\n",
              "    </tr>\n",
              "    <tr>\n",
              "      <th>25%</th>\n",
              "      <td>1.000000</td>\n",
              "    </tr>\n",
              "    <tr>\n",
              "      <th>50%</th>\n",
              "      <td>1.000000</td>\n",
              "    </tr>\n",
              "    <tr>\n",
              "      <th>75%</th>\n",
              "      <td>2.000000</td>\n",
              "    </tr>\n",
              "    <tr>\n",
              "      <th>max</th>\n",
              "      <td>100.000000</td>\n",
              "    </tr>\n",
              "  </tbody>\n",
              "</table>\n",
              "</div>"
            ],
            "text/plain": [
              "            quantity\n",
              "count  198500.000000\n",
              "mean        1.824126\n",
              "std         1.905529\n",
              "min         0.055000\n",
              "25%         1.000000\n",
              "50%         1.000000\n",
              "75%         2.000000\n",
              "max       100.000000"
            ]
          },
          "metadata": {},
          "execution_count": 7
        }
      ]
    },
    {
      "cell_type": "code",
      "metadata": {
        "colab": {
          "base_uri": "https://localhost:8080/"
        },
        "id": "23admpTtiFzS",
        "outputId": "ceb2b3ae-6024-4a61-b3e2-bb6a5cdb0d47"
      },
      "source": [
        "order_product['buy_unit'].unique() #Here we just confirme that we have only UN and KG in buy_unit"
      ],
      "execution_count": 8,
      "outputs": [
        {
          "output_type": "execute_result",
          "data": {
            "text/plain": [
              "array(['UN', 'KG'], dtype=object)"
            ]
          },
          "metadata": {},
          "execution_count": 8
        }
      ]
    },
    {
      "cell_type": "code",
      "metadata": {
        "colab": {
          "base_uri": "https://localhost:8080/",
          "height": 280
        },
        "id": "cDwFAhLQirZA",
        "outputId": "00643c31-42c6-43a2-b1df-ef09aee445e0"
      },
      "source": [
        "sns.countplot(x='buy_unit', data=order_product);\n"
      ],
      "execution_count": 9,
      "outputs": [
        {
          "output_type": "display_data",
          "data": {
            "image/png": "[encoded data removed]",
            "text/plain": [
              "<Figure size 432x288 with 1 Axes>"
            ]
          },
          "metadata": {
            "needs_background": "light"
          }
        }
      ]
    },
    {
      "cell_type": "code",
      "metadata": {
        "colab": {
          "base_uri": "https://localhost:8080/"
        },
        "id": "vt9sIJMPli_D",
        "outputId": "803b1ca8-822f-4589-a671-17ebdfe53890"
      },
      "source": [
        "print(\"Units that are in UN: \",order_product[order_product['buy_unit']=='UN']['order_id'].count())\n",
        "print(\"Units that are in KG: \",order_product[order_product['buy_unit']=='KG']['order_id'].count())"
      ],
      "execution_count": 10,
      "outputs": [
        {
          "output_type": "stream",
          "name": "stdout",
          "text": [
            "Units that are in UN:  180654\n",
            "Units that are in KG:  17846\n"
          ]
        }
      ]
    },
    {
      "cell_type": "markdown",
      "metadata": {
        "id": "UuavHdmOlgnz"
      },
      "source": [
        "After seeing these pieces of information we can have some problems to solve, for example, see how we could unify these metrics KG in Un or only do separates analyses here, but the main objective here is to predict how many times the order needs to finish, so when we think that one person needs more time to measurement the pounds of something it could be included as a plus in us model. But and the end of the model I realize that don't need to separate these things, the time shouldn't increase too much. "
      ]
    },
    {
      "cell_type": "markdown",
      "metadata": {
        "id": "vydqqVvacDXk"
      },
      "source": [
        "# EDA orders"
      ]
    },
    {
      "cell_type": "markdown",
      "metadata": {
        "id": "eeqNVlB-c-IE"
      },
      "source": [
        "Orders:\n",
        "- order_id: ID of the order\n",
        "- lat: The latitude of the delivery location\n",
        "- lng: The longitude of the delivery location\n",
        "- promised_time: The delivery time promised to the user\n",
        "- on_demand: If true, the order was promised to be delivered in less than X minutes\n",
        "- shopper_id: ID representing the shopper completed the order.\n",
        "- store_branch_id: ID of the store branch\n",
        "- total_minutes: The total minutes it took to complete the order (label)\n"
      ]
    },
    {
      "cell_type": "code",
      "metadata": {
        "id": "5GmLzZEvjKQ7",
        "colab": {
          "base_uri": "https://localhost:8080/"
        },
        "outputId": "a7633b7d-5e6c-4857-fe40-4d9fc2f87069"
      },
      "source": [
        "orders.info() #the idea of use info is to see the types of each feature"
      ],
      "execution_count": 11,
      "outputs": [
        {
          "output_type": "stream",
          "name": "stdout",
          "text": [
            "<class 'pandas.core.frame.DataFrame'>\n",
            "RangeIndex: 10000 entries, 0 to 9999\n",
            "Data columns (total 8 columns):\n",
            " #   Column           Non-Null Count  Dtype  \n",
            "---  ------           --------------  -----  \n",
            " 0   order_id         10000 non-null  object \n",
            " 1   lat              10000 non-null  float64\n",
            " 2   lng              10000 non-null  float64\n",
            " 3   promised_time    10000 non-null  object \n",
            " 4   on_demand        10000 non-null  bool   \n",
            " 5   shopper_id       10000 non-null  object \n",
            " 6   store_branch_id  10000 non-null  object \n",
            " 7   total_minutes    8000 non-null   float64\n",
            "dtypes: bool(1), float64(3), object(4)\n",
            "memory usage: 556.8+ KB\n"
          ]
        }
      ]
    },
    {
      "cell_type": "code",
      "metadata": {
        "colab": {
          "base_uri": "https://localhost:8080/",
          "height": 313
        },
        "id": "dMTm0lQqckL2",
        "outputId": "f934e9cd-d92f-4dc4-a137-0ac48d2d4c05"
      },
      "source": [
        "orders.head()"
      ],
      "execution_count": 12,
      "outputs": [
        {
          "output_type": "execute_result",
          "data": {
            "text/html": [
              "<div>\n",
              "<style scoped>\n",
              "    .dataframe tbody tr th:only-of-type {\n",
              "        vertical-align: middle;\n",
              "    }\n",
              "\n",
              "    .dataframe tbody tr th {\n",
              "        vertical-align: top;\n",
              "    }\n",
              "\n",
              "    .dataframe thead th {\n",
              "        text-align: right;\n",
              "    }\n",
              "</style>\n",
              "<table border=\"1\" class=\"dataframe\">\n",
              "  <thead>\n",
              "    <tr style=\"text-align: right;\">\n",
              "      <th></th>\n",
              "      <th>order_id</th>\n",
              "      <th>lat</th>\n",
              "      <th>lng</th>\n",
              "      <th>promised_time</th>\n",
              "      <th>on_demand</th>\n",
              "      <th>shopper_id</th>\n",
              "      <th>store_branch_id</th>\n",
              "      <th>total_minutes</th>\n",
              "    </tr>\n",
              "  </thead>\n",
              "  <tbody>\n",
              "    <tr>\n",
              "      <th>0</th>\n",
              "      <td>e750294655c2c7c34d83cc3181c09de4</td>\n",
              "      <td>-33.501675</td>\n",
              "      <td>-70.579369</td>\n",
              "      <td>2019-10-18 20:48:00+00:00</td>\n",
              "      <td>True</td>\n",
              "      <td>e63bc83a1a952fa2b3cc9d558fb943cf</td>\n",
              "      <td>65ded5353c5ee48d0b7d48c591b8f430</td>\n",
              "      <td>67.684264</td>\n",
              "    </tr>\n",
              "    <tr>\n",
              "      <th>1</th>\n",
              "      <td>6581174846221cb6c467348e87f57641</td>\n",
              "      <td>-33.440584</td>\n",
              "      <td>-70.556283</td>\n",
              "      <td>2019-10-19 01:00:00+00:00</td>\n",
              "      <td>False</td>\n",
              "      <td>195f9e9d84a4ba9033c4b6a756334d8b</td>\n",
              "      <td>45fbc6d3e05ebd93369ce542e8f2322d</td>\n",
              "      <td>57.060632</td>\n",
              "    </tr>\n",
              "    <tr>\n",
              "      <th>2</th>\n",
              "      <td>3a226ea48debc0a7ae9950d5540f2f34</td>\n",
              "      <td>-32.987022</td>\n",
              "      <td>-71.544842</td>\n",
              "      <td>2019-10-19 14:54:00+00:00</td>\n",
              "      <td>True</td>\n",
              "      <td>a5b9ddc0d82e61582fca19ad43dbaacb</td>\n",
              "      <td>07563a3fe3bbe7e3ba84431ad9d055af</td>\n",
              "      <td>NaN</td>\n",
              "    </tr>\n",
              "    <tr>\n",
              "      <th>3</th>\n",
              "      <td>7d2ed03fe4966083e74b12694b1669d8</td>\n",
              "      <td>-33.328075</td>\n",
              "      <td>-70.512659</td>\n",
              "      <td>2019-10-18 21:47:00+00:00</td>\n",
              "      <td>True</td>\n",
              "      <td>d0b3f6bf7e249e5ebb8d3129341773a2</td>\n",
              "      <td>f1748d6b0fd9d439f71450117eba2725</td>\n",
              "      <td>52.067742</td>\n",
              "    </tr>\n",
              "    <tr>\n",
              "      <th>4</th>\n",
              "      <td>b4b2682d77118155fe4716300ccf7f39</td>\n",
              "      <td>-33.403239</td>\n",
              "      <td>-70.564020</td>\n",
              "      <td>2019-10-19 20:00:00+00:00</td>\n",
              "      <td>False</td>\n",
              "      <td>5c5199ce02f7b77caa9c2590a39ad27d</td>\n",
              "      <td>1f0e3dad99908345f7439f8ffabdffc4</td>\n",
              "      <td>140.724822</td>\n",
              "    </tr>\n",
              "  </tbody>\n",
              "</table>\n",
              "</div>"
            ],
            "text/plain": [
              "                           order_id  ...  total_minutes\n",
              "0  e750294655c2c7c34d83cc3181c09de4  ...      67.684264\n",
              "1  6581174846221cb6c467348e87f57641  ...      57.060632\n",
              "2  3a226ea48debc0a7ae9950d5540f2f34  ...            NaN\n",
              "3  7d2ed03fe4966083e74b12694b1669d8  ...      52.067742\n",
              "4  b4b2682d77118155fe4716300ccf7f39  ...     140.724822\n",
              "\n",
              "[5 rows x 8 columns]"
            ]
          },
          "metadata": {},
          "execution_count": 12
        }
      ]
    },
    {
      "cell_type": "markdown",
      "metadata": {
        "id": "lQTr0iWLUNVI"
      },
      "source": [
        "Do we have some missing values? "
      ]
    },
    {
      "cell_type": "code",
      "metadata": {
        "colab": {
          "base_uri": "https://localhost:8080/"
        },
        "id": "SP1Hd9Dah-gh",
        "outputId": "106054ad-2be7-4f24-c695-322d50e62448"
      },
      "source": [
        "orders.isnull().sum()"
      ],
      "execution_count": 13,
      "outputs": [
        {
          "output_type": "execute_result",
          "data": {
            "text/plain": [
              "order_id              0\n",
              "lat                   0\n",
              "lng                   0\n",
              "promised_time         0\n",
              "on_demand             0\n",
              "shopper_id            0\n",
              "store_branch_id       0\n",
              "total_minutes      2000\n",
              "dtype: int64"
            ]
          },
          "metadata": {},
          "execution_count": 13
        }
      ]
    },
    {
      "cell_type": "markdown",
      "metadata": {
        "id": "qRnoCyYXiE2U"
      },
      "source": [
        "We have 2000 total_minutes as NaN, so we can work without these, and then use these data that don't have the total_minutes as the submission file."
      ]
    },
    {
      "cell_type": "markdown",
      "metadata": {
        "id": "bf-J8EnoUh9B"
      },
      "source": [
        "Now, let's take a look at the correlation between variables."
      ]
    },
    {
      "cell_type": "code",
      "metadata": {
        "colab": {
          "base_uri": "https://localhost:8080/",
          "height": 614
        },
        "id": "_IgxSqUCiEBF",
        "outputId": "327bd37b-3b6d-4687-ec58-33c2a96af7ed"
      },
      "source": [
        "plt.figure(figsize=(10,10))\n",
        "sns.heatmap(orders.corr(),cbar=True,annot=True,cmap='Blues')\n"
      ],
      "execution_count": 14,
      "outputs": [
        {
          "output_type": "execute_result",
          "data": {
            "text/plain": [
              "<matplotlib.axes._subplots.AxesSubplot at 0x7f09aee62590>"
            ]
          },
          "metadata": {},
          "execution_count": 14
        },
        {
          "output_type": "display_data",
          "data": {
            "image/png": "[encoded data removed]",
            "text/plain": [
              "<Figure size 720x720 with 2 Axes>"
            ]
          },
          "metadata": {
            "needs_background": "light"
          }
        }
      ]
    },
    {
      "cell_type": "markdown",
      "metadata": {
        "id": "m0EQOK4GlZHi"
      },
      "source": [
        "It's clear that we have a high correlation between lat and lng, but total_minutes us variable X we don't see any correlation, maybe after we calculate the distance, we could find a correlation in time, but by now we can't see anything. "
      ]
    },
    {
      "cell_type": "code",
      "metadata": {
        "colab": {
          "base_uri": "https://localhost:8080/",
          "height": 300
        },
        "id": "ITlZiyw-csmY",
        "outputId": "37928a80-fce0-439e-e581-5a2782ede1ea"
      },
      "source": [
        "orders.describe()"
      ],
      "execution_count": 15,
      "outputs": [
        {
          "output_type": "execute_result",
          "data": {
            "text/html": [
              "<div>\n",
              "<style scoped>\n",
              "    .dataframe tbody tr th:only-of-type {\n",
              "        vertical-align: middle;\n",
              "    }\n",
              "\n",
              "    .dataframe tbody tr th {\n",
              "        vertical-align: top;\n",
              "    }\n",
              "\n",
              "    .dataframe thead th {\n",
              "        text-align: right;\n",
              "    }\n",
              "</style>\n",
              "<table border=\"1\" class=\"dataframe\">\n",
              "  <thead>\n",
              "    <tr style=\"text-align: right;\">\n",
              "      <th></th>\n",
              "      <th>lat</th>\n",
              "      <th>lng</th>\n",
              "      <th>total_minutes</th>\n",
              "    </tr>\n",
              "  </thead>\n",
              "  <tbody>\n",
              "    <tr>\n",
              "      <th>count</th>\n",
              "      <td>10000.000000</td>\n",
              "      <td>10000.000000</td>\n",
              "      <td>8000.000000</td>\n",
              "    </tr>\n",
              "    <tr>\n",
              "      <th>mean</th>\n",
              "      <td>-33.427090</td>\n",
              "      <td>-70.668017</td>\n",
              "      <td>81.106130</td>\n",
              "    </tr>\n",
              "    <tr>\n",
              "      <th>std</th>\n",
              "      <td>0.558675</td>\n",
              "      <td>0.400249</td>\n",
              "      <td>34.720837</td>\n",
              "    </tr>\n",
              "    <tr>\n",
              "      <th>min</th>\n",
              "      <td>-36.942135</td>\n",
              "      <td>-73.144281</td>\n",
              "      <td>11.969489</td>\n",
              "    </tr>\n",
              "    <tr>\n",
              "      <th>25%</th>\n",
              "      <td>-33.426861</td>\n",
              "      <td>-70.605795</td>\n",
              "      <td>55.225480</td>\n",
              "    </tr>\n",
              "    <tr>\n",
              "      <th>50%</th>\n",
              "      <td>-33.398110</td>\n",
              "      <td>-70.574591</td>\n",
              "      <td>74.731672</td>\n",
              "    </tr>\n",
              "    <tr>\n",
              "      <th>75%</th>\n",
              "      <td>-33.353783</td>\n",
              "      <td>-70.540307</td>\n",
              "      <td>100.273498</td>\n",
              "    </tr>\n",
              "    <tr>\n",
              "      <th>max</th>\n",
              "      <td>-29.833517</td>\n",
              "      <td>-70.453728</td>\n",
              "      <td>304.190303</td>\n",
              "    </tr>\n",
              "  </tbody>\n",
              "</table>\n",
              "</div>"
            ],
            "text/plain": [
              "                lat           lng  total_minutes\n",
              "count  10000.000000  10000.000000    8000.000000\n",
              "mean     -33.427090    -70.668017      81.106130\n",
              "std        0.558675      0.400249      34.720837\n",
              "min      -36.942135    -73.144281      11.969489\n",
              "25%      -33.426861    -70.605795      55.225480\n",
              "50%      -33.398110    -70.574591      74.731672\n",
              "75%      -33.353783    -70.540307     100.273498\n",
              "max      -29.833517    -70.453728     304.190303"
            ]
          },
          "metadata": {},
          "execution_count": 15
        }
      ]
    },
    {
      "cell_type": "markdown",
      "metadata": {
        "id": "rUFeAi6diR5f"
      },
      "source": [
        "Some good points: \n",
        "\n",
        "*   We have 5 variables where lat, lng, and total_minutes are **Quantitative variable** and promised_time and on_demand are **Qualitative variable**\n",
        "*   By the way we need to be careful with these qualitative, because exist a good opportunity to include these pieces of information inside the model, we don't have sure yet but could be good. But we need to pre-process the variables. \n",
        "\n",
        "\n",
        "\n",
        "\n"
      ]
    },
    {
      "cell_type": "markdown",
      "metadata": {
        "id": "ObLW-D4wy-xM"
      },
      "source": [
        "TODO: Create a new column with the name distance that will be generated using geopy, we need to use the store to know the start and the endpoints, we could use the google API for calculates distance this more powerfully, but today we will use the geopy that also have good."
      ]
    },
    {
      "cell_type": "markdown",
      "metadata": {
        "id": "59AU6BcT1HoE"
      },
      "source": [
        "# EDA shoppers"
      ]
    },
    {
      "cell_type": "markdown",
      "metadata": {
        "id": "YWD7LqbY1dSl"
      },
      "source": [
        "shoppers:\n",
        "- shopper_id: ID of the shopper\n",
        "- seniority: The experience level of the shopper.\n",
        "- found_rate: Percentage of products found by shopper historical.\n",
        "- picking_speed: Historical picking speed, products pr minutes.\n",
        "- accepted_rate: Percentage of orders historically accepted by shopper\n",
        "- rating: client rating of shopper"
      ]
    },
    {
      "cell_type": "code",
      "metadata": {
        "colab": {
          "base_uri": "https://localhost:8080/"
        },
        "id": "fOPSrcc90vkr",
        "outputId": "dad955f2-1eab-44d3-8a19-df12997e7b3c"
      },
      "source": [
        "shoppers.info()"
      ],
      "execution_count": 16,
      "outputs": [
        {
          "output_type": "stream",
          "name": "stdout",
          "text": [
            "<class 'pandas.core.frame.DataFrame'>\n",
            "RangeIndex: 2864 entries, 0 to 2863\n",
            "Data columns (total 6 columns):\n",
            " #   Column         Non-Null Count  Dtype  \n",
            "---  ------         --------------  -----  \n",
            " 0   shopper_id     2864 non-null   object \n",
            " 1   seniority      2864 non-null   object \n",
            " 2   found_rate     2763 non-null   float64\n",
            " 3   picking_speed  2864 non-null   float64\n",
            " 4   accepted_rate  2837 non-null   float64\n",
            " 5   rating         2780 non-null   float64\n",
            "dtypes: float64(4), object(2)\n",
            "memory usage: 134.4+ KB\n"
          ]
        }
      ]
    },
    {
      "cell_type": "code",
      "metadata": {
        "colab": {
          "base_uri": "https://localhost:8080/",
          "height": 206
        },
        "id": "Qrmzd_-M2amN",
        "outputId": "e133926c-de5c-4a3c-8230-dc8509870d2f"
      },
      "source": [
        "shoppers.head()"
      ],
      "execution_count": 17,
      "outputs": [
        {
          "output_type": "execute_result",
          "data": {
            "text/html": [
              "<div>\n",
              "<style scoped>\n",
              "    .dataframe tbody tr th:only-of-type {\n",
              "        vertical-align: middle;\n",
              "    }\n",
              "\n",
              "    .dataframe tbody tr th {\n",
              "        vertical-align: top;\n",
              "    }\n",
              "\n",
              "    .dataframe thead th {\n",
              "        text-align: right;\n",
              "    }\n",
              "</style>\n",
              "<table border=\"1\" class=\"dataframe\">\n",
              "  <thead>\n",
              "    <tr style=\"text-align: right;\">\n",
              "      <th></th>\n",
              "      <th>shopper_id</th>\n",
              "      <th>seniority</th>\n",
              "      <th>found_rate</th>\n",
              "      <th>picking_speed</th>\n",
              "      <th>accepted_rate</th>\n",
              "      <th>rating</th>\n",
              "    </tr>\n",
              "  </thead>\n",
              "  <tbody>\n",
              "    <tr>\n",
              "      <th>0</th>\n",
              "      <td>1fc20b0bdf697ac13dd6a15cbd2fe60a</td>\n",
              "      <td>41dc7c9e385c4d2b6c1f7836973951bf</td>\n",
              "      <td>0.8606</td>\n",
              "      <td>1.94</td>\n",
              "      <td>1.00</td>\n",
              "      <td>4.87</td>\n",
              "    </tr>\n",
              "    <tr>\n",
              "      <th>1</th>\n",
              "      <td>e1c679ac73a69c01981fdd3c5ab8beda</td>\n",
              "      <td>6c90661e6d2c7579f5ce337c3391dbb9</td>\n",
              "      <td>0.8446</td>\n",
              "      <td>1.23</td>\n",
              "      <td>0.92</td>\n",
              "      <td>4.92</td>\n",
              "    </tr>\n",
              "    <tr>\n",
              "      <th>2</th>\n",
              "      <td>09d369c66ca86ebeffacb133410c5ee1</td>\n",
              "      <td>6c90661e6d2c7579f5ce337c3391dbb9</td>\n",
              "      <td>0.8559</td>\n",
              "      <td>1.56</td>\n",
              "      <td>1.00</td>\n",
              "      <td>4.88</td>\n",
              "    </tr>\n",
              "    <tr>\n",
              "      <th>3</th>\n",
              "      <td>db39866e62b95bb04ebb1e470f2d1347</td>\n",
              "      <td>50e13ee63f086c2fe84229348bc91b5b</td>\n",
              "      <td>NaN</td>\n",
              "      <td>2.41</td>\n",
              "      <td>NaN</td>\n",
              "      <td>NaN</td>\n",
              "    </tr>\n",
              "    <tr>\n",
              "      <th>4</th>\n",
              "      <td>8efbc238660053b19f00ca431144fdae</td>\n",
              "      <td>6c90661e6d2c7579f5ce337c3391dbb9</td>\n",
              "      <td>0.8770</td>\n",
              "      <td>1.31</td>\n",
              "      <td>0.92</td>\n",
              "      <td>4.88</td>\n",
              "    </tr>\n",
              "  </tbody>\n",
              "</table>\n",
              "</div>"
            ],
            "text/plain": [
              "                         shopper_id  ... rating\n",
              "0  1fc20b0bdf697ac13dd6a15cbd2fe60a  ...   4.87\n",
              "1  e1c679ac73a69c01981fdd3c5ab8beda  ...   4.92\n",
              "2  09d369c66ca86ebeffacb133410c5ee1  ...   4.88\n",
              "3  db39866e62b95bb04ebb1e470f2d1347  ...    NaN\n",
              "4  8efbc238660053b19f00ca431144fdae  ...   4.88\n",
              "\n",
              "[5 rows x 6 columns]"
            ]
          },
          "metadata": {},
          "execution_count": 17
        }
      ]
    },
    {
      "cell_type": "code",
      "metadata": {
        "colab": {
          "base_uri": "https://localhost:8080/"
        },
        "id": "urs_c0vR28Qq",
        "outputId": "cd763e29-58b1-43af-fd77-39aafdef8534"
      },
      "source": [
        "shoppers.isnull().sum()"
      ],
      "execution_count": 18,
      "outputs": [
        {
          "output_type": "execute_result",
          "data": {
            "text/plain": [
              "shopper_id         0\n",
              "seniority          0\n",
              "found_rate       101\n",
              "picking_speed      0\n",
              "accepted_rate     27\n",
              "rating            84\n",
              "dtype: int64"
            ]
          },
          "metadata": {},
          "execution_count": 18
        }
      ]
    },
    {
      "cell_type": "markdown",
      "metadata": {
        "id": "r99cWotz3J3N"
      },
      "source": [
        "Here we have more NaN values, so we need to work on solving this problem! "
      ]
    },
    {
      "cell_type": "code",
      "metadata": {
        "colab": {
          "base_uri": "https://localhost:8080/",
          "height": 614
        },
        "id": "L7i2P6qc24LT",
        "outputId": "8012c02b-821a-4162-e090-71a77380e784"
      },
      "source": [
        "plt.figure(figsize=(10,10))\n",
        "sns.heatmap(shoppers.corr(),cbar=True,annot=True,cmap='Blues')\n"
      ],
      "execution_count": 19,
      "outputs": [
        {
          "output_type": "execute_result",
          "data": {
            "text/plain": [
              "<matplotlib.axes._subplots.AxesSubplot at 0x7f09a60d8490>"
            ]
          },
          "metadata": {},
          "execution_count": 19
        },
        {
          "output_type": "display_data",
          "data": {
            "image/png": "[encoded data removed]",
            "text/plain": [
              "<Figure size 720x720 with 2 Axes>"
            ]
          },
          "metadata": {
            "needs_background": "light"
          }
        }
      ]
    },
    {
      "cell_type": "code",
      "metadata": {
        "colab": {
          "base_uri": "https://localhost:8080/",
          "height": 300
        },
        "id": "HzHNzl-z3aFV",
        "outputId": "8b0ccfed-a85e-431e-cf6e-f731a2b270fc"
      },
      "source": [
        "shoppers.describe()"
      ],
      "execution_count": 20,
      "outputs": [
        {
          "output_type": "execute_result",
          "data": {
            "text/html": [
              "<div>\n",
              "<style scoped>\n",
              "    .dataframe tbody tr th:only-of-type {\n",
              "        vertical-align: middle;\n",
              "    }\n",
              "\n",
              "    .dataframe tbody tr th {\n",
              "        vertical-align: top;\n",
              "    }\n",
              "\n",
              "    .dataframe thead th {\n",
              "        text-align: right;\n",
              "    }\n",
              "</style>\n",
              "<table border=\"1\" class=\"dataframe\">\n",
              "  <thead>\n",
              "    <tr style=\"text-align: right;\">\n",
              "      <th></th>\n",
              "      <th>found_rate</th>\n",
              "      <th>picking_speed</th>\n",
              "      <th>accepted_rate</th>\n",
              "      <th>rating</th>\n",
              "    </tr>\n",
              "  </thead>\n",
              "  <tbody>\n",
              "    <tr>\n",
              "      <th>count</th>\n",
              "      <td>2763.000000</td>\n",
              "      <td>2864.000000</td>\n",
              "      <td>2837.000000</td>\n",
              "      <td>2780.000000</td>\n",
              "    </tr>\n",
              "    <tr>\n",
              "      <th>mean</th>\n",
              "      <td>0.861082</td>\n",
              "      <td>1.762392</td>\n",
              "      <td>0.908276</td>\n",
              "      <td>4.848428</td>\n",
              "    </tr>\n",
              "    <tr>\n",
              "      <th>std</th>\n",
              "      <td>0.031038</td>\n",
              "      <td>0.665962</td>\n",
              "      <td>0.107911</td>\n",
              "      <td>0.133011</td>\n",
              "    </tr>\n",
              "    <tr>\n",
              "      <th>min</th>\n",
              "      <td>0.737300</td>\n",
              "      <td>0.650000</td>\n",
              "      <td>0.240000</td>\n",
              "      <td>3.880000</td>\n",
              "    </tr>\n",
              "    <tr>\n",
              "      <th>25%</th>\n",
              "      <td>0.842900</td>\n",
              "      <td>1.290000</td>\n",
              "      <td>0.880000</td>\n",
              "      <td>4.800000</td>\n",
              "    </tr>\n",
              "    <tr>\n",
              "      <th>50%</th>\n",
              "      <td>0.863900</td>\n",
              "      <td>1.580000</td>\n",
              "      <td>0.944444</td>\n",
              "      <td>4.880000</td>\n",
              "    </tr>\n",
              "    <tr>\n",
              "      <th>75%</th>\n",
              "      <td>0.881950</td>\n",
              "      <td>2.120000</td>\n",
              "      <td>1.000000</td>\n",
              "      <td>4.960000</td>\n",
              "    </tr>\n",
              "    <tr>\n",
              "      <th>max</th>\n",
              "      <td>0.971000</td>\n",
              "      <td>7.040000</td>\n",
              "      <td>1.000000</td>\n",
              "      <td>5.000000</td>\n",
              "    </tr>\n",
              "  </tbody>\n",
              "</table>\n",
              "</div>"
            ],
            "text/plain": [
              "        found_rate  picking_speed  accepted_rate       rating\n",
              "count  2763.000000    2864.000000    2837.000000  2780.000000\n",
              "mean      0.861082       1.762392       0.908276     4.848428\n",
              "std       0.031038       0.665962       0.107911     0.133011\n",
              "min       0.737300       0.650000       0.240000     3.880000\n",
              "25%       0.842900       1.290000       0.880000     4.800000\n",
              "50%       0.863900       1.580000       0.944444     4.880000\n",
              "75%       0.881950       2.120000       1.000000     4.960000\n",
              "max       0.971000       7.040000       1.000000     5.000000"
            ]
          },
          "metadata": {},
          "execution_count": 20
        }
      ]
    },
    {
      "cell_type": "markdown",
      "metadata": {
        "id": "yc3fBOxKWB34"
      },
      "source": [
        "\n",
        "After this EDA I verify that we can use the seniority as a dummy, and this can bring more power to the model. "
      ]
    },
    {
      "cell_type": "markdown",
      "metadata": {
        "id": "OajxaszE1Osg"
      },
      "source": [
        "# EDA store"
      ]
    },
    {
      "cell_type": "markdown",
      "metadata": {
        "id": "F6-UyqMB1hDg"
      },
      "source": [
        "store:\n",
        "- store_branch_id: ID of the store branch\n",
        "- store: ID representing the store\n",
        "- lat: Latitude of the branch location\n",
        "- lng: Longitude of the branch location"
      ]
    },
    {
      "cell_type": "code",
      "metadata": {
        "colab": {
          "base_uri": "https://localhost:8080/"
        },
        "id": "c2ZZyS0O1Qnm",
        "outputId": "0d498fcd-2ddb-4dc4-bd10-a71e3f0f452d"
      },
      "source": [
        "store.info()"
      ],
      "execution_count": 21,
      "outputs": [
        {
          "output_type": "stream",
          "name": "stdout",
          "text": [
            "<class 'pandas.core.frame.DataFrame'>\n",
            "RangeIndex: 476 entries, 0 to 475\n",
            "Data columns (total 4 columns):\n",
            " #   Column           Non-Null Count  Dtype  \n",
            "---  ------           --------------  -----  \n",
            " 0   store_branch_id  476 non-null    object \n",
            " 1   store_id         476 non-null    object \n",
            " 2   lat              476 non-null    float64\n",
            " 3   lng              476 non-null    float64\n",
            "dtypes: float64(2), object(2)\n",
            "memory usage: 15.0+ KB\n"
          ]
        }
      ]
    },
    {
      "cell_type": "code",
      "metadata": {
        "colab": {
          "base_uri": "https://localhost:8080/",
          "height": 206
        },
        "id": "6CWNkyMI3p2h",
        "outputId": "03f93adf-67c2-4c25-cf36-e1ecc6c2c352"
      },
      "source": [
        "store.head()"
      ],
      "execution_count": 22,
      "outputs": [
        {
          "output_type": "execute_result",
          "data": {
            "text/html": [
              "<div>\n",
              "<style scoped>\n",
              "    .dataframe tbody tr th:only-of-type {\n",
              "        vertical-align: middle;\n",
              "    }\n",
              "\n",
              "    .dataframe tbody tr th {\n",
              "        vertical-align: top;\n",
              "    }\n",
              "\n",
              "    .dataframe thead th {\n",
              "        text-align: right;\n",
              "    }\n",
              "</style>\n",
              "<table border=\"1\" class=\"dataframe\">\n",
              "  <thead>\n",
              "    <tr style=\"text-align: right;\">\n",
              "      <th></th>\n",
              "      <th>store_branch_id</th>\n",
              "      <th>store_id</th>\n",
              "      <th>lat</th>\n",
              "      <th>lng</th>\n",
              "    </tr>\n",
              "  </thead>\n",
              "  <tbody>\n",
              "    <tr>\n",
              "      <th>0</th>\n",
              "      <td>aff1621254f7c1be92f64550478c56e6</td>\n",
              "      <td>92cc227532d17e56e07902b254dfad10</td>\n",
              "      <td>-33.422497</td>\n",
              "      <td>-70.609231</td>\n",
              "    </tr>\n",
              "    <tr>\n",
              "      <th>1</th>\n",
              "      <td>56352739f59643540a3a6e16985f62c7</td>\n",
              "      <td>0336dcbab05b9d5ad24f4333c7658a0e</td>\n",
              "      <td>-33.385484</td>\n",
              "      <td>-70.555579</td>\n",
              "    </tr>\n",
              "    <tr>\n",
              "      <th>2</th>\n",
              "      <td>7d04bbbe5494ae9d2f5a76aa1c00fa2f</td>\n",
              "      <td>9bf31c7ff062936a96d3c8bd1f8f2ff3</td>\n",
              "      <td>-33.416579</td>\n",
              "      <td>-70.565224</td>\n",
              "    </tr>\n",
              "    <tr>\n",
              "      <th>3</th>\n",
              "      <td>2b24d495052a8ce66358eb576b8912c8</td>\n",
              "      <td>c4ca4238a0b923820dcc509a6f75849b</td>\n",
              "      <td>-33.512578</td>\n",
              "      <td>-70.655952</td>\n",
              "    </tr>\n",
              "    <tr>\n",
              "      <th>4</th>\n",
              "      <td>5487315b1286f907165907aa8fc96619</td>\n",
              "      <td>d82c8d1619ad8176d665453cfb2e55f0</td>\n",
              "      <td>-33.347645</td>\n",
              "      <td>-70.542229</td>\n",
              "    </tr>\n",
              "  </tbody>\n",
              "</table>\n",
              "</div>"
            ],
            "text/plain": [
              "                    store_branch_id  ...        lng\n",
              "0  aff1621254f7c1be92f64550478c56e6  ... -70.609231\n",
              "1  56352739f59643540a3a6e16985f62c7  ... -70.555579\n",
              "2  7d04bbbe5494ae9d2f5a76aa1c00fa2f  ... -70.565224\n",
              "3  2b24d495052a8ce66358eb576b8912c8  ... -70.655952\n",
              "4  5487315b1286f907165907aa8fc96619  ... -70.542229\n",
              "\n",
              "[5 rows x 4 columns]"
            ]
          },
          "metadata": {},
          "execution_count": 22
        }
      ]
    },
    {
      "cell_type": "code",
      "metadata": {
        "colab": {
          "base_uri": "https://localhost:8080/",
          "height": 300
        },
        "id": "SNhiUsuG3sq3",
        "outputId": "1a4111db-29c1-4fb8-ddc7-5491b5acf120"
      },
      "source": [
        "store.describe()"
      ],
      "execution_count": 23,
      "outputs": [
        {
          "output_type": "execute_result",
          "data": {
            "text/html": [
              "<div>\n",
              "<style scoped>\n",
              "    .dataframe tbody tr th:only-of-type {\n",
              "        vertical-align: middle;\n",
              "    }\n",
              "\n",
              "    .dataframe tbody tr th {\n",
              "        vertical-align: top;\n",
              "    }\n",
              "\n",
              "    .dataframe thead th {\n",
              "        text-align: right;\n",
              "    }\n",
              "</style>\n",
              "<table border=\"1\" class=\"dataframe\">\n",
              "  <thead>\n",
              "    <tr style=\"text-align: right;\">\n",
              "      <th></th>\n",
              "      <th>lat</th>\n",
              "      <th>lng</th>\n",
              "    </tr>\n",
              "  </thead>\n",
              "  <tbody>\n",
              "    <tr>\n",
              "      <th>count</th>\n",
              "      <td>476.000000</td>\n",
              "      <td>476.000000</td>\n",
              "    </tr>\n",
              "    <tr>\n",
              "      <th>mean</th>\n",
              "      <td>-33.457661</td>\n",
              "      <td>-70.737432</td>\n",
              "    </tr>\n",
              "    <tr>\n",
              "      <th>std</th>\n",
              "      <td>0.762492</td>\n",
              "      <td>0.513308</td>\n",
              "    </tr>\n",
              "    <tr>\n",
              "      <th>min</th>\n",
              "      <td>-36.904347</td>\n",
              "      <td>-73.096660</td>\n",
              "    </tr>\n",
              "    <tr>\n",
              "      <th>25%</th>\n",
              "      <td>-33.431260</td>\n",
              "      <td>-70.611515</td>\n",
              "    </tr>\n",
              "    <tr>\n",
              "      <th>50%</th>\n",
              "      <td>-33.401876</td>\n",
              "      <td>-70.577312</td>\n",
              "    </tr>\n",
              "    <tr>\n",
              "      <th>75%</th>\n",
              "      <td>-33.359701</td>\n",
              "      <td>-70.544190</td>\n",
              "    </tr>\n",
              "    <tr>\n",
              "      <th>max</th>\n",
              "      <td>-29.901425</td>\n",
              "      <td>-70.492256</td>\n",
              "    </tr>\n",
              "  </tbody>\n",
              "</table>\n",
              "</div>"
            ],
            "text/plain": [
              "              lat         lng\n",
              "count  476.000000  476.000000\n",
              "mean   -33.457661  -70.737432\n",
              "std      0.762492    0.513308\n",
              "min    -36.904347  -73.096660\n",
              "25%    -33.431260  -70.611515\n",
              "50%    -33.401876  -70.577312\n",
              "75%    -33.359701  -70.544190\n",
              "max    -29.901425  -70.492256"
            ]
          },
          "metadata": {},
          "execution_count": 23
        }
      ]
    },
    {
      "cell_type": "code",
      "metadata": {
        "colab": {
          "base_uri": "https://localhost:8080/"
        },
        "id": "EZ-XL8mr3wiK",
        "outputId": "506a3bdf-92e1-425b-d505-321b6c2e1252"
      },
      "source": [
        "store.isnull().sum()"
      ],
      "execution_count": 24,
      "outputs": [
        {
          "output_type": "execute_result",
          "data": {
            "text/plain": [
              "store_branch_id    0\n",
              "store_id           0\n",
              "lat                0\n",
              "lng                0\n",
              "dtype: int64"
            ]
          },
          "metadata": {},
          "execution_count": 24
        }
      ]
    },
    {
      "cell_type": "code",
      "metadata": {
        "colab": {
          "base_uri": "https://localhost:8080/",
          "height": 614
        },
        "id": "vlWLzrjS35IN",
        "outputId": "db5b9e25-7178-4dfe-b6d6-e8aae9e33e3d"
      },
      "source": [
        "plt.figure(figsize=(10,10))\n",
        "sns.heatmap(store.corr(),cbar=True,annot=True,cmap='Blues')\n"
      ],
      "execution_count": 25,
      "outputs": [
        {
          "output_type": "execute_result",
          "data": {
            "text/plain": [
              "<matplotlib.axes._subplots.AxesSubplot at 0x7f09aee35fd0>"
            ]
          },
          "metadata": {},
          "execution_count": 25
        },
        {
          "output_type": "display_data",
          "data": {
            "image/png": "[encoded data removed]",
            "text/plain": [
              "<Figure size 720x720 with 2 Axes>"
            ]
          },
          "metadata": {
            "needs_background": "light"
          }
        }
      ]
    },
    {
      "cell_type": "markdown",
      "metadata": {
        "id": "qsi-JllHWPC3"
      },
      "source": [
        "This data have the idea to get the distance between the orders and the store"
      ]
    },
    {
      "cell_type": "markdown",
      "metadata": {
        "id": "UIxwyaBo4H_N"
      },
      "source": [
        "# Next Steps\n",
        "\n",
        "\n",
        "*   After seeing the EDA we know that we have two things to solve problems with NA values\n",
        "*   We already know that need calculate the distance between the store and the order because this feature is important to predict the total_minutes\n",
        "*   We need to join the tables to generate only one dataFrame to include in the model\n",
        "*   We can run the OLS as the first set and see the test to know how better was\n",
        "*   We can take a look into the multi-level to see how great this can be and see the results to compare.\n",
        "*   We can use the XGBoost to see if it's better than the others models. \n",
        "*   We can use a PCA to reduce the number of features if need, but probably not! \n",
        "\n"
      ]
    },
    {
      "cell_type": "markdown",
      "metadata": {
        "id": "1mcWiUnOmXbC"
      },
      "source": [
        "# Data Transform (Run)"
      ]
    },
    {
      "cell_type": "markdown",
      "metadata": {
        "id": "SL3l22Z2oR6b"
      },
      "source": [
        "We have a lot of ways to work with, and we can test each one, but today I will only dropNa as the first model and the second model I will use statistics to fill the NaN values, the Idea is to use clustering to know each cluster the NaN can be included and then add the mean of the group into the missing values. "
      ]
    },
    {
      "cell_type": "code",
      "metadata": {
        "id": "tZXrNTN03-b1"
      },
      "source": [
        "dfOrdersDropNa = orders.dropna()"
      ],
      "execution_count": 26,
      "outputs": []
    },
    {
      "cell_type": "code",
      "metadata": {
        "colab": {
          "base_uri": "https://localhost:8080/"
        },
        "id": "73D-m4vapfv0",
        "outputId": "984f7668-ab73-4dd3-abca-5667616b6432"
      },
      "source": [
        "dfOrdersDropNa.isnull().sum()"
      ],
      "execution_count": 27,
      "outputs": [
        {
          "output_type": "execute_result",
          "data": {
            "text/plain": [
              "order_id           0\n",
              "lat                0\n",
              "lng                0\n",
              "promised_time      0\n",
              "on_demand          0\n",
              "shopper_id         0\n",
              "store_branch_id    0\n",
              "total_minutes      0\n",
              "dtype: int64"
            ]
          },
          "metadata": {},
          "execution_count": 27
        }
      ]
    },
    {
      "cell_type": "markdown",
      "metadata": {
        "id": "QC4CoAaZqZj1"
      },
      "source": [
        "I decide to use the dropna in the shoppers, only because after running the model I see that when I use fillna to use the mean the result of log-likelihood isn't better than when I dropna. "
      ]
    },
    {
      "cell_type": "code",
      "metadata": {
        "id": "yopF7haVpkUz"
      },
      "source": [
        "dfShoppersDropNa = shoppers.dropna()"
      ],
      "execution_count": 28,
      "outputs": []
    },
    {
      "cell_type": "code",
      "metadata": {
        "colab": {
          "base_uri": "https://localhost:8080/"
        },
        "id": "FIwUcRSfptOr",
        "outputId": "9831b76f-b368-404b-da00-88e276824e26"
      },
      "source": [
        "dfShoppersDropNa.isnull().sum()"
      ],
      "execution_count": 29,
      "outputs": [
        {
          "output_type": "execute_result",
          "data": {
            "text/plain": [
              "shopper_id       0\n",
              "seniority        0\n",
              "found_rate       0\n",
              "picking_speed    0\n",
              "accepted_rate    0\n",
              "rating           0\n",
              "dtype: int64"
            ]
          },
          "metadata": {},
          "execution_count": 29
        }
      ]
    },
    {
      "cell_type": "code",
      "metadata": {
        "colab": {
          "base_uri": "https://localhost:8080/",
          "height": 206
        },
        "id": "R6_lViKQzXCK",
        "outputId": "cf04f014-8bb5-4857-a951-5936ee514fb2"
      },
      "source": [
        "order_product.head()"
      ],
      "execution_count": 30,
      "outputs": [
        {
          "output_type": "execute_result",
          "data": {
            "text/html": [
              "<div>\n",
              "<style scoped>\n",
              "    .dataframe tbody tr th:only-of-type {\n",
              "        vertical-align: middle;\n",
              "    }\n",
              "\n",
              "    .dataframe tbody tr th {\n",
              "        vertical-align: top;\n",
              "    }\n",
              "\n",
              "    .dataframe thead th {\n",
              "        text-align: right;\n",
              "    }\n",
              "</style>\n",
              "<table border=\"1\" class=\"dataframe\">\n",
              "  <thead>\n",
              "    <tr style=\"text-align: right;\">\n",
              "      <th></th>\n",
              "      <th>order_id</th>\n",
              "      <th>product_id</th>\n",
              "      <th>quantity</th>\n",
              "      <th>buy_unit</th>\n",
              "    </tr>\n",
              "  </thead>\n",
              "  <tbody>\n",
              "    <tr>\n",
              "      <th>0</th>\n",
              "      <td>47099653730fb1b76537fc10ad876255</td>\n",
              "      <td>c1244453d731c77416cb4766e3bd76cb</td>\n",
              "      <td>1.0</td>\n",
              "      <td>UN</td>\n",
              "    </tr>\n",
              "    <tr>\n",
              "      <th>1</th>\n",
              "      <td>689d8866915acf87e851c2591a23a82f</td>\n",
              "      <td>43cc2b100bec640fe563cd16f2db669f</td>\n",
              "      <td>1.0</td>\n",
              "      <td>KG</td>\n",
              "    </tr>\n",
              "    <tr>\n",
              "      <th>2</th>\n",
              "      <td>f26d16bf6f38c9e31d0be877f4013a9e</td>\n",
              "      <td>b8f880759d014134e272d881d49989a2</td>\n",
              "      <td>1.0</td>\n",
              "      <td>UN</td>\n",
              "    </tr>\n",
              "    <tr>\n",
              "      <th>3</th>\n",
              "      <td>161ccc896835ab41761b0e726becb6b1</td>\n",
              "      <td>dbc062b9bef805d27a6f4bea7edfe1f1</td>\n",
              "      <td>1.0</td>\n",
              "      <td>UN</td>\n",
              "    </tr>\n",
              "    <tr>\n",
              "      <th>4</th>\n",
              "      <td>4713deca10bb5db98fae150b52d61fc0</td>\n",
              "      <td>93a060f269bb569398921100f84c519a</td>\n",
              "      <td>2.0</td>\n",
              "      <td>UN</td>\n",
              "    </tr>\n",
              "  </tbody>\n",
              "</table>\n",
              "</div>"
            ],
            "text/plain": [
              "                           order_id  ... buy_unit\n",
              "0  47099653730fb1b76537fc10ad876255  ...       UN\n",
              "1  689d8866915acf87e851c2591a23a82f  ...       KG\n",
              "2  f26d16bf6f38c9e31d0be877f4013a9e  ...       UN\n",
              "3  161ccc896835ab41761b0e726becb6b1  ...       UN\n",
              "4  4713deca10bb5db98fae150b52d61fc0  ...       UN\n",
              "\n",
              "[5 rows x 4 columns]"
            ]
          },
          "metadata": {},
          "execution_count": 30
        }
      ]
    },
    {
      "cell_type": "code",
      "metadata": {
        "id": "j2-f8QWlOgQV"
      },
      "source": [
        "somaQuantity = order_product.groupby(['order_id'])['quantity'].sum()"
      ],
      "execution_count": 31,
      "outputs": []
    },
    {
      "cell_type": "code",
      "metadata": {
        "id": "Yw-V3np3OWUF"
      },
      "source": [
        "order_product_sum=somaQuantity.to_frame()"
      ],
      "execution_count": 32,
      "outputs": []
    },
    {
      "cell_type": "code",
      "metadata": {
        "colab": {
          "base_uri": "https://localhost:8080/",
          "height": 238
        },
        "id": "osg-vDS7SC3C",
        "outputId": "2e8758a1-c16f-4f53-ade5-773ad2b6a1a0"
      },
      "source": [
        "order_product_sum.head()"
      ],
      "execution_count": 33,
      "outputs": [
        {
          "output_type": "execute_result",
          "data": {
            "text/html": [
              "<div>\n",
              "<style scoped>\n",
              "    .dataframe tbody tr th:only-of-type {\n",
              "        vertical-align: middle;\n",
              "    }\n",
              "\n",
              "    .dataframe tbody tr th {\n",
              "        vertical-align: top;\n",
              "    }\n",
              "\n",
              "    .dataframe thead th {\n",
              "        text-align: right;\n",
              "    }\n",
              "</style>\n",
              "<table border=\"1\" class=\"dataframe\">\n",
              "  <thead>\n",
              "    <tr style=\"text-align: right;\">\n",
              "      <th></th>\n",
              "      <th>quantity</th>\n",
              "    </tr>\n",
              "    <tr>\n",
              "      <th>order_id</th>\n",
              "      <th></th>\n",
              "    </tr>\n",
              "  </thead>\n",
              "  <tbody>\n",
              "    <tr>\n",
              "      <th>0004a3841c1eeb6c6e77585a941c21e0</th>\n",
              "      <td>8.000</td>\n",
              "    </tr>\n",
              "    <tr>\n",
              "      <th>0005a6ecbbde1e8d273f5577bcff2c9c</th>\n",
              "      <td>2.000</td>\n",
              "    </tr>\n",
              "    <tr>\n",
              "      <th>0007baeb6700fc203be2d1f1e11222d7</th>\n",
              "      <td>39.000</td>\n",
              "    </tr>\n",
              "    <tr>\n",
              "      <th>0012195a6a8ca9ec308a3010eeea8ebc</th>\n",
              "      <td>13.000</td>\n",
              "    </tr>\n",
              "    <tr>\n",
              "      <th>0013011fa72b498b9feb84f4e7104980</th>\n",
              "      <td>64.636</td>\n",
              "    </tr>\n",
              "  </tbody>\n",
              "</table>\n",
              "</div>"
            ],
            "text/plain": [
              "                                  quantity\n",
              "order_id                                  \n",
              "0004a3841c1eeb6c6e77585a941c21e0     8.000\n",
              "0005a6ecbbde1e8d273f5577bcff2c9c     2.000\n",
              "0007baeb6700fc203be2d1f1e11222d7    39.000\n",
              "0012195a6a8ca9ec308a3010eeea8ebc    13.000\n",
              "0013011fa72b498b9feb84f4e7104980    64.636"
            ]
          },
          "metadata": {},
          "execution_count": 33
        }
      ]
    },
    {
      "cell_type": "code",
      "metadata": {
        "colab": {
          "base_uri": "https://localhost:8080/"
        },
        "id": "hBy_kMhviqeq",
        "outputId": "4f429431-d2b9-4338-9481-c14cf3becf77"
      },
      "source": [
        "order_product_sum.info()"
      ],
      "execution_count": 34,
      "outputs": [
        {
          "output_type": "stream",
          "name": "stdout",
          "text": [
            "<class 'pandas.core.frame.DataFrame'>\n",
            "Index: 9978 entries, 0004a3841c1eeb6c6e77585a941c21e0 to ffe8fa40d7e51f9860b62b5e9d798a57\n",
            "Data columns (total 1 columns):\n",
            " #   Column    Non-Null Count  Dtype  \n",
            "---  ------    --------------  -----  \n",
            " 0   quantity  9978 non-null   float64\n",
            "dtypes: float64(1)\n",
            "memory usage: 155.9+ KB\n"
          ]
        }
      ]
    },
    {
      "cell_type": "markdown",
      "metadata": {
        "id": "-AzV6Qs0V4r8"
      },
      "source": [
        "# Join tables (Run)"
      ]
    },
    {
      "cell_type": "markdown",
      "metadata": {
        "id": "HO5KGebiY8mC"
      },
      "source": [
        "This step was a good candidate to use spark, but let's keep with the pandas, just because the data isn't big enough. The main idea here is to generate a unique data frame to be used inside the models."
      ]
    },
    {
      "cell_type": "code",
      "metadata": {
        "id": "QL3YATPfWKgY"
      },
      "source": [
        "storeRenamed = store.rename(columns={\"lat\":\"lat_store\", \"lng\":\"lng_store\"},inplace= False)"
      ],
      "execution_count": 35,
      "outputs": []
    },
    {
      "cell_type": "code",
      "metadata": {
        "colab": {
          "base_uri": "https://localhost:8080/",
          "height": 206
        },
        "id": "uA-KAwqRWNkM",
        "outputId": "8e59c262-9e65-47b1-e870-c6732a42f8ee"
      },
      "source": [
        "storeRenamed.head()"
      ],
      "execution_count": 36,
      "outputs": [
        {
          "output_type": "execute_result",
          "data": {
            "text/html": [
              "<div>\n",
              "<style scoped>\n",
              "    .dataframe tbody tr th:only-of-type {\n",
              "        vertical-align: middle;\n",
              "    }\n",
              "\n",
              "    .dataframe tbody tr th {\n",
              "        vertical-align: top;\n",
              "    }\n",
              "\n",
              "    .dataframe thead th {\n",
              "        text-align: right;\n",
              "    }\n",
              "</style>\n",
              "<table border=\"1\" class=\"dataframe\">\n",
              "  <thead>\n",
              "    <tr style=\"text-align: right;\">\n",
              "      <th></th>\n",
              "      <th>store_branch_id</th>\n",
              "      <th>store_id</th>\n",
              "      <th>lat_store</th>\n",
              "      <th>lng_store</th>\n",
              "    </tr>\n",
              "  </thead>\n",
              "  <tbody>\n",
              "    <tr>\n",
              "      <th>0</th>\n",
              "      <td>aff1621254f7c1be92f64550478c56e6</td>\n",
              "      <td>92cc227532d17e56e07902b254dfad10</td>\n",
              "      <td>-33.422497</td>\n",
              "      <td>-70.609231</td>\n",
              "    </tr>\n",
              "    <tr>\n",
              "      <th>1</th>\n",
              "      <td>56352739f59643540a3a6e16985f62c7</td>\n",
              "      <td>0336dcbab05b9d5ad24f4333c7658a0e</td>\n",
              "      <td>-33.385484</td>\n",
              "      <td>-70.555579</td>\n",
              "    </tr>\n",
              "    <tr>\n",
              "      <th>2</th>\n",
              "      <td>7d04bbbe5494ae9d2f5a76aa1c00fa2f</td>\n",
              "      <td>9bf31c7ff062936a96d3c8bd1f8f2ff3</td>\n",
              "      <td>-33.416579</td>\n",
              "      <td>-70.565224</td>\n",
              "    </tr>\n",
              "    <tr>\n",
              "      <th>3</th>\n",
              "      <td>2b24d495052a8ce66358eb576b8912c8</td>\n",
              "      <td>c4ca4238a0b923820dcc509a6f75849b</td>\n",
              "      <td>-33.512578</td>\n",
              "      <td>-70.655952</td>\n",
              "    </tr>\n",
              "    <tr>\n",
              "      <th>4</th>\n",
              "      <td>5487315b1286f907165907aa8fc96619</td>\n",
              "      <td>d82c8d1619ad8176d665453cfb2e55f0</td>\n",
              "      <td>-33.347645</td>\n",
              "      <td>-70.542229</td>\n",
              "    </tr>\n",
              "  </tbody>\n",
              "</table>\n",
              "</div>"
            ],
            "text/plain": [
              "                    store_branch_id  ...  lng_store\n",
              "0  aff1621254f7c1be92f64550478c56e6  ... -70.609231\n",
              "1  56352739f59643540a3a6e16985f62c7  ... -70.555579\n",
              "2  7d04bbbe5494ae9d2f5a76aa1c00fa2f  ... -70.565224\n",
              "3  2b24d495052a8ce66358eb576b8912c8  ... -70.655952\n",
              "4  5487315b1286f907165907aa8fc96619  ... -70.542229\n",
              "\n",
              "[5 rows x 4 columns]"
            ]
          },
          "metadata": {},
          "execution_count": 36
        }
      ]
    },
    {
      "cell_type": "code",
      "metadata": {
        "id": "oMTKfAY-YxVQ"
      },
      "source": [
        "dfOrdersWithOrderProduct = pd.merge(dfOrdersDropNa,order_product_sum,'inner',\"order_id\")\n",
        "dfOrdersWithOrderProductWithShopper = pd.merge(dfOrdersWithOrderProduct,dfShoppersDropNa,'inner',\"shopper_id\")\n",
        "dataModel = pd.merge(dfOrdersWithOrderProductWithShopper,storeRenamed,'inner',\"store_branch_id\")\n"
      ],
      "execution_count": 37,
      "outputs": []
    },
    {
      "cell_type": "code",
      "metadata": {
        "id": "zA3bVgU0ZfUu"
      },
      "source": [
        "dataModel.drop({\"order_id\", \"shopper_id\",\"store_branch_id\",\"store_id\",\"promised_time\"},axis='columns',inplace=True)"
      ],
      "execution_count": 38,
      "outputs": []
    },
    {
      "cell_type": "markdown",
      "metadata": {
        "id": "PZexZuZcZM8F"
      },
      "source": [
        "Now, let's implement the functions that calculate the distance between the coordinators. "
      ]
    },
    {
      "cell_type": "code",
      "metadata": {
        "id": "XmUI4OpjcKEI"
      },
      "source": [
        "def geoDist (dataModel):\n",
        "  import geopy.distance\n",
        "\n",
        "  coords_1 = (dataModel['lat'], dataModel['lng'])\n",
        "  coords_2 = (dataModel['lat_store'], dataModel['lng_store'])\n",
        "\n",
        "  return geopy.distance.vincenty(coords_1, coords_2).km"
      ],
      "execution_count": 39,
      "outputs": []
    },
    {
      "cell_type": "code",
      "metadata": {
        "id": "Ac_B0gZoha9v"
      },
      "source": [
        "dataModel['distance']=dataModel.apply(geoDist, axis=1)"
      ],
      "execution_count": 40,
      "outputs": []
    },
    {
      "cell_type": "code",
      "metadata": {
        "colab": {
          "base_uri": "https://localhost:8080/",
          "height": 226
        },
        "id": "t2IUcwQKh3A3",
        "outputId": "ca2f622f-003b-4d3d-9d7a-44da7b0ff9b4"
      },
      "source": [
        "dataModel.head()"
      ],
      "execution_count": 41,
      "outputs": [
        {
          "output_type": "execute_result",
          "data": {
            "text/html": [
              "<div>\n",
              "<style scoped>\n",
              "    .dataframe tbody tr th:only-of-type {\n",
              "        vertical-align: middle;\n",
              "    }\n",
              "\n",
              "    .dataframe tbody tr th {\n",
              "        vertical-align: top;\n",
              "    }\n",
              "\n",
              "    .dataframe thead th {\n",
              "        text-align: right;\n",
              "    }\n",
              "</style>\n",
              "<table border=\"1\" class=\"dataframe\">\n",
              "  <thead>\n",
              "    <tr style=\"text-align: right;\">\n",
              "      <th></th>\n",
              "      <th>lat</th>\n",
              "      <th>lng</th>\n",
              "      <th>on_demand</th>\n",
              "      <th>total_minutes</th>\n",
              "      <th>quantity</th>\n",
              "      <th>seniority</th>\n",
              "      <th>found_rate</th>\n",
              "      <th>picking_speed</th>\n",
              "      <th>accepted_rate</th>\n",
              "      <th>rating</th>\n",
              "      <th>lat_store</th>\n",
              "      <th>lng_store</th>\n",
              "      <th>distance</th>\n",
              "    </tr>\n",
              "  </thead>\n",
              "  <tbody>\n",
              "    <tr>\n",
              "      <th>0</th>\n",
              "      <td>-33.501675</td>\n",
              "      <td>-70.579369</td>\n",
              "      <td>True</td>\n",
              "      <td>67.684264</td>\n",
              "      <td>18.756</td>\n",
              "      <td>6c90661e6d2c7579f5ce337c3391dbb9</td>\n",
              "      <td>0.9024</td>\n",
              "      <td>1.30</td>\n",
              "      <td>0.92</td>\n",
              "      <td>4.76</td>\n",
              "      <td>-33.48528</td>\n",
              "      <td>-70.57925</td>\n",
              "      <td>1.818407</td>\n",
              "    </tr>\n",
              "    <tr>\n",
              "      <th>1</th>\n",
              "      <td>-33.491167</td>\n",
              "      <td>-70.571649</td>\n",
              "      <td>True</td>\n",
              "      <td>160.336211</td>\n",
              "      <td>65.900</td>\n",
              "      <td>6c90661e6d2c7579f5ce337c3391dbb9</td>\n",
              "      <td>0.9024</td>\n",
              "      <td>1.30</td>\n",
              "      <td>0.92</td>\n",
              "      <td>4.76</td>\n",
              "      <td>-33.48528</td>\n",
              "      <td>-70.57925</td>\n",
              "      <td>0.961885</td>\n",
              "    </tr>\n",
              "    <tr>\n",
              "      <th>2</th>\n",
              "      <td>-33.493406</td>\n",
              "      <td>-70.594164</td>\n",
              "      <td>False</td>\n",
              "      <td>122.239210</td>\n",
              "      <td>156.000</td>\n",
              "      <td>6c90661e6d2c7579f5ce337c3391dbb9</td>\n",
              "      <td>0.8909</td>\n",
              "      <td>1.17</td>\n",
              "      <td>0.96</td>\n",
              "      <td>5.00</td>\n",
              "      <td>-33.48528</td>\n",
              "      <td>-70.57925</td>\n",
              "      <td>1.653246</td>\n",
              "    </tr>\n",
              "    <tr>\n",
              "      <th>3</th>\n",
              "      <td>-33.487836</td>\n",
              "      <td>-70.572412</td>\n",
              "      <td>False</td>\n",
              "      <td>133.113926</td>\n",
              "      <td>122.646</td>\n",
              "      <td>6c90661e6d2c7579f5ce337c3391dbb9</td>\n",
              "      <td>0.8462</td>\n",
              "      <td>1.11</td>\n",
              "      <td>0.96</td>\n",
              "      <td>4.96</td>\n",
              "      <td>-33.48528</td>\n",
              "      <td>-70.57925</td>\n",
              "      <td>0.695847</td>\n",
              "    </tr>\n",
              "    <tr>\n",
              "      <th>4</th>\n",
              "      <td>-33.504759</td>\n",
              "      <td>-70.552168</td>\n",
              "      <td>False</td>\n",
              "      <td>94.734479</td>\n",
              "      <td>99.216</td>\n",
              "      <td>50e13ee63f086c2fe84229348bc91b5b</td>\n",
              "      <td>0.8138</td>\n",
              "      <td>1.89</td>\n",
              "      <td>0.84</td>\n",
              "      <td>4.68</td>\n",
              "      <td>-33.48528</td>\n",
              "      <td>-70.57925</td>\n",
              "      <td>3.316783</td>\n",
              "    </tr>\n",
              "  </tbody>\n",
              "</table>\n",
              "</div>"
            ],
            "text/plain": [
              "         lat        lng  on_demand  ...  lat_store  lng_store  distance\n",
              "0 -33.501675 -70.579369       True  ...  -33.48528  -70.57925  1.818407\n",
              "1 -33.491167 -70.571649       True  ...  -33.48528  -70.57925  0.961885\n",
              "2 -33.493406 -70.594164      False  ...  -33.48528  -70.57925  1.653246\n",
              "3 -33.487836 -70.572412      False  ...  -33.48528  -70.57925  0.695847\n",
              "4 -33.504759 -70.552168      False  ...  -33.48528  -70.57925  3.316783\n",
              "\n",
              "[5 rows x 13 columns]"
            ]
          },
          "metadata": {},
          "execution_count": 41
        }
      ]
    },
    {
      "cell_type": "markdown",
      "metadata": {
        "id": "Sn59E6SOZYu0"
      },
      "source": [
        "I think that could be good to remove the lat and lng, but when I test the model I realize that the lat, lng, and distance together it's good!\n",
        "\n"
      ]
    },
    {
      "cell_type": "code",
      "metadata": {
        "id": "gFrryevsSupX"
      },
      "source": [
        "#dataModel.drop({'lat','lng','lat_store','lng_store'},axis='columns',inplace=True)"
      ],
      "execution_count": 42,
      "outputs": []
    },
    {
      "cell_type": "code",
      "metadata": {
        "colab": {
          "base_uri": "https://localhost:8080/",
          "height": 226
        },
        "id": "TFKZQsowTfkA",
        "outputId": "9d7026f9-a92c-4e81-f102-3efbfd62ad41"
      },
      "source": [
        "dataModel.head()"
      ],
      "execution_count": 43,
      "outputs": [
        {
          "output_type": "execute_result",
          "data": {
            "text/html": [
              "<div>\n",
              "<style scoped>\n",
              "    .dataframe tbody tr th:only-of-type {\n",
              "        vertical-align: middle;\n",
              "    }\n",
              "\n",
              "    .dataframe tbody tr th {\n",
              "        vertical-align: top;\n",
              "    }\n",
              "\n",
              "    .dataframe thead th {\n",
              "        text-align: right;\n",
              "    }\n",
              "</style>\n",
              "<table border=\"1\" class=\"dataframe\">\n",
              "  <thead>\n",
              "    <tr style=\"text-align: right;\">\n",
              "      <th></th>\n",
              "      <th>lat</th>\n",
              "      <th>lng</th>\n",
              "      <th>on_demand</th>\n",
              "      <th>total_minutes</th>\n",
              "      <th>quantity</th>\n",
              "      <th>seniority</th>\n",
              "      <th>found_rate</th>\n",
              "      <th>picking_speed</th>\n",
              "      <th>accepted_rate</th>\n",
              "      <th>rating</th>\n",
              "      <th>lat_store</th>\n",
              "      <th>lng_store</th>\n",
              "      <th>distance</th>\n",
              "    </tr>\n",
              "  </thead>\n",
              "  <tbody>\n",
              "    <tr>\n",
              "      <th>0</th>\n",
              "      <td>-33.501675</td>\n",
              "      <td>-70.579369</td>\n",
              "      <td>True</td>\n",
              "      <td>67.684264</td>\n",
              "      <td>18.756</td>\n",
              "      <td>6c90661e6d2c7579f5ce337c3391dbb9</td>\n",
              "      <td>0.9024</td>\n",
              "      <td>1.30</td>\n",
              "      <td>0.92</td>\n",
              "      <td>4.76</td>\n",
              "      <td>-33.48528</td>\n",
              "      <td>-70.57925</td>\n",
              "      <td>1.818407</td>\n",
              "    </tr>\n",
              "    <tr>\n",
              "      <th>1</th>\n",
              "      <td>-33.491167</td>\n",
              "      <td>-70.571649</td>\n",
              "      <td>True</td>\n",
              "      <td>160.336211</td>\n",
              "      <td>65.900</td>\n",
              "      <td>6c90661e6d2c7579f5ce337c3391dbb9</td>\n",
              "      <td>0.9024</td>\n",
              "      <td>1.30</td>\n",
              "      <td>0.92</td>\n",
              "      <td>4.76</td>\n",
              "      <td>-33.48528</td>\n",
              "      <td>-70.57925</td>\n",
              "      <td>0.961885</td>\n",
              "    </tr>\n",
              "    <tr>\n",
              "      <th>2</th>\n",
              "      <td>-33.493406</td>\n",
              "      <td>-70.594164</td>\n",
              "      <td>False</td>\n",
              "      <td>122.239210</td>\n",
              "      <td>156.000</td>\n",
              "      <td>6c90661e6d2c7579f5ce337c3391dbb9</td>\n",
              "      <td>0.8909</td>\n",
              "      <td>1.17</td>\n",
              "      <td>0.96</td>\n",
              "      <td>5.00</td>\n",
              "      <td>-33.48528</td>\n",
              "      <td>-70.57925</td>\n",
              "      <td>1.653246</td>\n",
              "    </tr>\n",
              "    <tr>\n",
              "      <th>3</th>\n",
              "      <td>-33.487836</td>\n",
              "      <td>-70.572412</td>\n",
              "      <td>False</td>\n",
              "      <td>133.113926</td>\n",
              "      <td>122.646</td>\n",
              "      <td>6c90661e6d2c7579f5ce337c3391dbb9</td>\n",
              "      <td>0.8462</td>\n",
              "      <td>1.11</td>\n",
              "      <td>0.96</td>\n",
              "      <td>4.96</td>\n",
              "      <td>-33.48528</td>\n",
              "      <td>-70.57925</td>\n",
              "      <td>0.695847</td>\n",
              "    </tr>\n",
              "    <tr>\n",
              "      <th>4</th>\n",
              "      <td>-33.504759</td>\n",
              "      <td>-70.552168</td>\n",
              "      <td>False</td>\n",
              "      <td>94.734479</td>\n",
              "      <td>99.216</td>\n",
              "      <td>50e13ee63f086c2fe84229348bc91b5b</td>\n",
              "      <td>0.8138</td>\n",
              "      <td>1.89</td>\n",
              "      <td>0.84</td>\n",
              "      <td>4.68</td>\n",
              "      <td>-33.48528</td>\n",
              "      <td>-70.57925</td>\n",
              "      <td>3.316783</td>\n",
              "    </tr>\n",
              "  </tbody>\n",
              "</table>\n",
              "</div>"
            ],
            "text/plain": [
              "         lat        lng  on_demand  ...  lat_store  lng_store  distance\n",
              "0 -33.501675 -70.579369       True  ...  -33.48528  -70.57925  1.818407\n",
              "1 -33.491167 -70.571649       True  ...  -33.48528  -70.57925  0.961885\n",
              "2 -33.493406 -70.594164      False  ...  -33.48528  -70.57925  1.653246\n",
              "3 -33.487836 -70.572412      False  ...  -33.48528  -70.57925  0.695847\n",
              "4 -33.504759 -70.552168      False  ...  -33.48528  -70.57925  3.316783\n",
              "\n",
              "[5 rows x 13 columns]"
            ]
          },
          "metadata": {},
          "execution_count": 43
        }
      ]
    },
    {
      "cell_type": "markdown",
      "metadata": {
        "id": "Wfv2qFBJZmqS"
      },
      "source": [
        "\n",
        "Now let's convert the seniority into dummies variables. In the Validation of the model, we will see that this is very good for the model. "
      ]
    },
    {
      "cell_type": "code",
      "metadata": {
        "id": "OeL0PMAET4ek"
      },
      "source": [
        "dataModelOLS = pd.get_dummies(dataModel)"
      ],
      "execution_count": 44,
      "outputs": []
    },
    {
      "cell_type": "code",
      "metadata": {
        "colab": {
          "base_uri": "https://localhost:8080/",
          "height": 226
        },
        "id": "xaJ_WMttVApU",
        "outputId": "25d4dd38-5485-4310-c3be-219c2461e2c0"
      },
      "source": [
        "dataModelOLS.head()"
      ],
      "execution_count": 45,
      "outputs": [
        {
          "output_type": "execute_result",
          "data": {
            "text/html": [
              "<div>\n",
              "<style scoped>\n",
              "    .dataframe tbody tr th:only-of-type {\n",
              "        vertical-align: middle;\n",
              "    }\n",
              "\n",
              "    .dataframe tbody tr th {\n",
              "        vertical-align: top;\n",
              "    }\n",
              "\n",
              "    .dataframe thead th {\n",
              "        text-align: right;\n",
              "    }\n",
              "</style>\n",
              "<table border=\"1\" class=\"dataframe\">\n",
              "  <thead>\n",
              "    <tr style=\"text-align: right;\">\n",
              "      <th></th>\n",
              "      <th>lat</th>\n",
              "      <th>lng</th>\n",
              "      <th>on_demand</th>\n",
              "      <th>total_minutes</th>\n",
              "      <th>quantity</th>\n",
              "      <th>found_rate</th>\n",
              "      <th>picking_speed</th>\n",
              "      <th>accepted_rate</th>\n",
              "      <th>rating</th>\n",
              "      <th>lat_store</th>\n",
              "      <th>lng_store</th>\n",
              "      <th>distance</th>\n",
              "      <th>seniority_41dc7c9e385c4d2b6c1f7836973951bf</th>\n",
              "      <th>seniority_50e13ee63f086c2fe84229348bc91b5b</th>\n",
              "      <th>seniority_6c90661e6d2c7579f5ce337c3391dbb9</th>\n",
              "      <th>seniority_bb29b8d0d196b5db5a5350e5e3ae2b1f</th>\n",
              "    </tr>\n",
              "  </thead>\n",
              "  <tbody>\n",
              "    <tr>\n",
              "      <th>0</th>\n",
              "      <td>-33.501675</td>\n",
              "      <td>-70.579369</td>\n",
              "      <td>True</td>\n",
              "      <td>67.684264</td>\n",
              "      <td>18.756</td>\n",
              "      <td>0.9024</td>\n",
              "      <td>1.30</td>\n",
              "      <td>0.92</td>\n",
              "      <td>4.76</td>\n",
              "      <td>-33.48528</td>\n",
              "      <td>-70.57925</td>\n",
              "      <td>1.818407</td>\n",
              "      <td>0</td>\n",
              "      <td>0</td>\n",
              "      <td>1</td>\n",
              "      <td>0</td>\n",
              "    </tr>\n",
              "    <tr>\n",
              "      <th>1</th>\n",
              "      <td>-33.491167</td>\n",
              "      <td>-70.571649</td>\n",
              "      <td>True</td>\n",
              "      <td>160.336211</td>\n",
              "      <td>65.900</td>\n",
              "      <td>0.9024</td>\n",
              "      <td>1.30</td>\n",
              "      <td>0.92</td>\n",
              "      <td>4.76</td>\n",
              "      <td>-33.48528</td>\n",
              "      <td>-70.57925</td>\n",
              "      <td>0.961885</td>\n",
              "      <td>0</td>\n",
              "      <td>0</td>\n",
              "      <td>1</td>\n",
              "      <td>0</td>\n",
              "    </tr>\n",
              "    <tr>\n",
              "      <th>2</th>\n",
              "      <td>-33.493406</td>\n",
              "      <td>-70.594164</td>\n",
              "      <td>False</td>\n",
              "      <td>122.239210</td>\n",
              "      <td>156.000</td>\n",
              "      <td>0.8909</td>\n",
              "      <td>1.17</td>\n",
              "      <td>0.96</td>\n",
              "      <td>5.00</td>\n",
              "      <td>-33.48528</td>\n",
              "      <td>-70.57925</td>\n",
              "      <td>1.653246</td>\n",
              "      <td>0</td>\n",
              "      <td>0</td>\n",
              "      <td>1</td>\n",
              "      <td>0</td>\n",
              "    </tr>\n",
              "    <tr>\n",
              "      <th>3</th>\n",
              "      <td>-33.487836</td>\n",
              "      <td>-70.572412</td>\n",
              "      <td>False</td>\n",
              "      <td>133.113926</td>\n",
              "      <td>122.646</td>\n",
              "      <td>0.8462</td>\n",
              "      <td>1.11</td>\n",
              "      <td>0.96</td>\n",
              "      <td>4.96</td>\n",
              "      <td>-33.48528</td>\n",
              "      <td>-70.57925</td>\n",
              "      <td>0.695847</td>\n",
              "      <td>0</td>\n",
              "      <td>0</td>\n",
              "      <td>1</td>\n",
              "      <td>0</td>\n",
              "    </tr>\n",
              "    <tr>\n",
              "      <th>4</th>\n",
              "      <td>-33.504759</td>\n",
              "      <td>-70.552168</td>\n",
              "      <td>False</td>\n",
              "      <td>94.734479</td>\n",
              "      <td>99.216</td>\n",
              "      <td>0.8138</td>\n",
              "      <td>1.89</td>\n",
              "      <td>0.84</td>\n",
              "      <td>4.68</td>\n",
              "      <td>-33.48528</td>\n",
              "      <td>-70.57925</td>\n",
              "      <td>3.316783</td>\n",
              "      <td>0</td>\n",
              "      <td>1</td>\n",
              "      <td>0</td>\n",
              "      <td>0</td>\n",
              "    </tr>\n",
              "  </tbody>\n",
              "</table>\n",
              "</div>"
            ],
            "text/plain": [
              "         lat  ...  seniority_bb29b8d0d196b5db5a5350e5e3ae2b1f\n",
              "0 -33.501675  ...                                           0\n",
              "1 -33.491167  ...                                           0\n",
              "2 -33.493406  ...                                           0\n",
              "3 -33.487836  ...                                           0\n",
              "4 -33.504759  ...                                           0\n",
              "\n",
              "[5 rows x 16 columns]"
            ]
          },
          "metadata": {},
          "execution_count": 45
        }
      ]
    },
    {
      "cell_type": "markdown",
      "metadata": {
        "id": "NOidt54UZ2j4"
      },
      "source": [
        "Let's take a look at the correlation between variables. We probably don't remove any variable only because doesn't correlate, but it's can be tested the model without someone who likes these. "
      ]
    },
    {
      "cell_type": "code",
      "metadata": {
        "colab": {
          "base_uri": "https://localhost:8080/",
          "height": 850
        },
        "id": "Pf1vlvImj42j",
        "outputId": "9c9386d1-4f92-43a0-b06f-8061491d8720"
      },
      "source": [
        "plt.figure(figsize=(10,10))\n",
        "sns.heatmap(dataModelOLS.corr(),cbar=True,annot=True,cmap='Blues')"
      ],
      "execution_count": 46,
      "outputs": [
        {
          "output_type": "execute_result",
          "data": {
            "text/plain": [
              "<matplotlib.axes._subplots.AxesSubplot at 0x7f09a4cbc950>"
            ]
          },
          "metadata": {},
          "execution_count": 46
        },
        {
          "output_type": "display_data",
          "data": {
            "image/png": "[encoded data removed]",
            "text/plain": [
              "<Figure size 720x720 with 2 Axes>"
            ]
          },
          "metadata": {
            "needs_background": "light"
          }
        }
      ]
    },
    {
      "cell_type": "markdown",
      "metadata": {
        "id": "Du2RTrOKWUJO"
      },
      "source": [
        "# Start Machine Learning algorithms\n",
        "The main idea here is to find the best model having the best fit. And then Use this model to predict the orders that don't have the total_minutes. "
      ]
    },
    {
      "cell_type": "markdown",
      "metadata": {
        "id": "79dRxCQriMoR"
      },
      "source": [
        "# OLS"
      ]
    },
    {
      "cell_type": "markdown",
      "metadata": {
        "id": "ZM6wv3-ucIbj"
      },
      "source": [
        "First, let's use the Regression as always shown be the start.\n",
        "And let's analyze the log-likelihood, is important to know how great it's better is the model. And also look at the R-squared and adj, because this shows to us one idea of the error. But the most important is the Log-Likelihood "
      ]
    },
    {
      "cell_type": "code",
      "metadata": {
        "id": "--vmz2DwjOGY",
        "colab": {
          "base_uri": "https://localhost:8080/"
        },
        "outputId": "c132d208-317f-48e3-a6d3-145e75cb6fed"
      },
      "source": [
        "modelOLS = smf.ols(formula='total_minutes ~ on_demand+lat+lng+lat_store+lng_store+\tquantity\t+ found_rate +\tpicking_speed +\taccepted_rate+ \trating+\tdistance+\tseniority_41dc7c9e385c4d2b6c1f7836973951bf+\tseniority_50e13ee63f086c2fe84229348bc91b5b+\tseniority_6c90661e6d2c7579f5ce337c3391dbb9', data=dataModelOLS).fit()\n",
        "print(modelOLS.params)\n",
        "print(modelOLS.summary())"
      ],
      "execution_count": 47,
      "outputs": [
        {
          "output_type": "stream",
          "name": "stdout",
          "text": [
            "Intercept                                     -63.695504\n",
            "on_demand[T.True]                             -11.902248\n",
            "lat                                           -73.638925\n",
            "lng                                           -17.846771\n",
            "lat_store                                      74.795997\n",
            "lng_store                                      13.855924\n",
            "quantity                                        0.547308\n",
            "found_rate                                   -106.465054\n",
            "picking_speed                                  10.425580\n",
            "accepted_rate                                 -19.426712\n",
            "rating                                         -1.918723\n",
            "distance                                        2.748225\n",
            "seniority_41dc7c9e385c4d2b6c1f7836973951bf    -19.782712\n",
            "seniority_50e13ee63f086c2fe84229348bc91b5b    -23.318763\n",
            "seniority_6c90661e6d2c7579f5ce337c3391dbb9    -17.677649\n",
            "dtype: float64\n",
            "                            OLS Regression Results                            \n",
            "==============================================================================\n",
            "Dep. Variable:          total_minutes   R-squared:                       0.386\n",
            "Model:                            OLS   Adj. R-squared:                  0.385\n",
            "Method:                 Least Squares   F-statistic:                     349.4\n",
            "Date:                Thu, 25 Nov 2021   Prob (F-statistic):               0.00\n",
            "Time:                        19:24:30   Log-Likelihood:                -36817.\n",
            "No. Observations:                7802   AIC:                         7.366e+04\n",
            "Df Residuals:                    7787   BIC:                         7.377e+04\n",
            "Df Model:                          14                                         \n",
            "Covariance Type:            nonrobust                                         \n",
            "==============================================================================================================\n",
            "                                                 coef    std err          t      P>|t|      [0.025      0.975]\n",
            "--------------------------------------------------------------------------------------------------------------\n",
            "Intercept                                    -63.6955     60.992     -1.044      0.296    -183.256      55.865\n",
            "on_demand[T.True]                            -11.9022      0.636    -18.700      0.000     -13.150     -10.655\n",
            "lat                                          -73.6389     13.672     -5.386      0.000    -100.440     -46.838\n",
            "lng                                          -17.8468     14.871     -1.200      0.230     -46.999      11.305\n",
            "lat_store                                     74.7960     13.715      5.454      0.000      47.911     101.681\n",
            "lng_store                                     13.8559     14.869      0.932      0.351     -15.291      43.003\n",
            "quantity                                       0.5473      0.009     58.243      0.000       0.529       0.566\n",
            "found_rate                                  -106.4651     11.351     -9.379      0.000    -128.717     -84.214\n",
            "picking_speed                                 10.4256      0.652     16.000      0.000       9.148      11.703\n",
            "accepted_rate                                -19.4267      4.849     -4.007      0.000     -28.931      -9.922\n",
            "rating                                        -1.9187      2.433     -0.789      0.430      -6.688       2.850\n",
            "distance                                       2.7482      0.183     14.993      0.000       2.389       3.108\n",
            "seniority_41dc7c9e385c4d2b6c1f7836973951bf   -19.7827      9.160     -2.160      0.031     -37.738      -1.827\n",
            "seniority_50e13ee63f086c2fe84229348bc91b5b   -23.3188      9.097     -2.563      0.010     -41.150      -5.487\n",
            "seniority_6c90661e6d2c7579f5ce337c3391dbb9   -17.6776      9.177     -1.926      0.054     -35.667       0.312\n",
            "==============================================================================\n",
            "Omnibus:                     1669.685   Durbin-Watson:                   1.523\n",
            "Prob(Omnibus):                  0.000   Jarque-Bera (JB):             4906.983\n",
            "Skew:                           1.113   Prob(JB):                         0.00\n",
            "Kurtosis:                       6.184   Cond. No.                     2.33e+04\n",
            "==============================================================================\n",
            "\n",
            "Warnings:\n",
            "[1] Standard Errors assume that the covariance matrix of the errors is correctly specified.\n",
            "[2] The condition number is large, 2.33e+04. This might indicate that there are\n",
            "strong multicollinearity or other numerical problems.\n"
          ]
        }
      ]
    },
    {
      "cell_type": "code",
      "metadata": {
        "colab": {
          "base_uri": "https://localhost:8080/"
        },
        "id": "qhG0z3wbWdwj",
        "outputId": "5ee07602-093e-4e7c-d0f1-3198c1c3fa62"
      },
      "source": [
        "yOLS = dataModelOLS['total_minutes']\n",
        "XOLS = dataModelOLS.drop(['total_minutes'], axis=1)\n",
        "\n",
        "cols = list(dataModelOLS.columns.values) \n",
        "cols.pop(cols.index('total_minutes'))\n",
        "train_XOLS, test_XOLS, train_yOLS, test_yOLS = train_test_split(XOLS.values, yOLS.values, test_size=0.15)\n",
        "test_XOLS= pd.DataFrame(test_XOLS,columns=cols)\n",
        "test_XOLS= test_XOLS.convert_dtypes()\n",
        "test_XOLS['on_demand']=test_XOLS['on_demand'].astype('bool')\n",
        "test_XOLS['seniority_41dc7c9e385c4d2b6c1f7836973951bf']=test_XOLS['seniority_41dc7c9e385c4d2b6c1f7836973951bf'].astype('uint8')\n",
        "test_XOLS['seniority_50e13ee63f086c2fe84229348bc91b5b']=test_XOLS['seniority_50e13ee63f086c2fe84229348bc91b5b'].astype('uint8')\n",
        "test_XOLS['seniority_6c90661e6d2c7579f5ce337c3391dbb9']=test_XOLS['seniority_6c90661e6d2c7579f5ce337c3391dbb9'].astype('uint8')\n",
        "test_XOLS['seniority_bb29b8d0d196b5db5a5350e5e3ae2b1f']=test_XOLS['seniority_bb29b8d0d196b5db5a5350e5e3ae2b1f'].astype('uint8')\n",
        "\n",
        "predictOLS = modelOLS.predict(test_XOLS)\n",
        "print(\"Mean absolute error OLS level: {:.2f}\".format(mean_absolute_error(predictOLS,test_yOLS)))\n"
      ],
      "execution_count": 48,
      "outputs": [
        {
          "output_type": "stream",
          "name": "stdout",
          "text": [
            "Mean absolute error OLS level: 20.05\n"
          ]
        }
      ]
    },
    {
      "cell_type": "markdown",
      "metadata": {
        "id": "AgffCKVMrHV5"
      },
      "source": [
        "# GLMM (Run)"
      ]
    },
    {
      "cell_type": "markdown",
      "metadata": {
        "id": "5XJhkJRbe7T5"
      },
      "source": [
        "Now, let's use the multi-level model, and use the seniority as the groups.\n"
      ]
    },
    {
      "cell_type": "code",
      "metadata": {
        "colab": {
          "base_uri": "https://localhost:8080/"
        },
        "id": "YPSQ6AXHepBK",
        "outputId": "3f98bdcd-aac3-4dce-a78f-5e0c49815071"
      },
      "source": [
        "modelMult1 = smf.mixedlm(formula='total_minutes ~ on_demand+lat+lng+lat_store+lng_store+\tquantity\t+ found_rate +\tpicking_speed +\taccepted_rate+ \trating+\tdistance+\tseniority_41dc7c9e385c4d2b6c1f7836973951bf+\tseniority_50e13ee63f086c2fe84229348bc91b5b+\tseniority_6c90661e6d2c7579f5ce337c3391dbb9', data=dataModelOLS, groups=dataModel[\"seniority\"]).fit()\n",
        "print(modelMult1.params)\n",
        "print(modelMult1.summary())"
      ],
      "execution_count": 49,
      "outputs": [
        {
          "output_type": "stream",
          "name": "stdout",
          "text": [
            "Intercept                                     -63.695504\n",
            "on_demand[T.True]                             -11.902248\n",
            "lat                                           -73.638925\n",
            "lng                                           -17.846771\n",
            "lat_store                                      74.795997\n",
            "lng_store                                      13.855924\n",
            "quantity                                        0.547308\n",
            "found_rate                                   -106.465054\n",
            "picking_speed                                  10.425580\n",
            "accepted_rate                                 -19.426712\n",
            "rating                                         -1.918723\n",
            "distance                                        2.748225\n",
            "seniority_41dc7c9e385c4d2b6c1f7836973951bf    -19.782712\n",
            "seniority_50e13ee63f086c2fe84229348bc91b5b    -23.318763\n",
            "seniority_6c90661e6d2c7579f5ce337c3391dbb9    -17.677649\n",
            "Group Var                                       1.000000\n",
            "dtype: float64\n",
            "                             Mixed Linear Model Regression Results\n",
            "===============================================================================================\n",
            "Model:                        MixedLM             Dependent Variable:             total_minutes\n",
            "No. Observations:             7802                Method:                         REML         \n",
            "No. Groups:                   4                   Scale:                          736.5700     \n",
            "Min. group size:              9                   Likelihood:                     -36800.8999  \n",
            "Max. group size:              4896                Converged:                      Yes          \n",
            "Mean group size:              1950.5                                                           \n",
            "-----------------------------------------------------------------------------------------------\n",
            "                                            Coef.     Std.Err.      z    P>|z|  [0.025   0.975]\n",
            "-----------------------------------------------------------------------------------------------\n",
            "Intercept                                   -63.696       66.758  -0.954 0.340 -194.538  67.147\n",
            "on_demand[T.True]                           -11.902        0.636 -18.700 0.000  -13.150 -10.655\n",
            "lat                                         -73.639       13.672  -5.386 0.000 -100.436 -46.842\n",
            "lng                                         -17.847       14.871  -1.200 0.230  -46.994  11.301\n",
            "lat_store                                    74.796       13.715   5.454 0.000   47.915 101.677\n",
            "lng_store                                    13.856       14.869   0.932 0.351  -15.286  42.998\n",
            "quantity                                      0.547        0.009  58.243 0.000    0.529   0.566\n",
            "found_rate                                 -106.465       11.351  -9.379 0.000 -128.713 -84.217\n",
            "picking_speed                                10.426        0.652  16.000 0.000    9.148  11.703\n",
            "accepted_rate                               -19.427        4.849  -4.007 0.000  -28.930  -9.924\n",
            "rating                                       -1.919        2.433  -0.789 0.430   -6.687   2.850\n",
            "distance                                      2.748        0.183  14.993 0.000    2.389   3.107\n",
            "seniority_41dc7c9e385c4d2b6c1f7836973951bf  -19.783       39.459  -0.501 0.616  -97.122  57.556\n",
            "seniority_50e13ee63f086c2fe84229348bc91b5b  -23.319       39.445  -0.591 0.554 -100.629  53.991\n",
            "seniority_6c90661e6d2c7579f5ce337c3391dbb9  -17.678       39.463  -0.448 0.654  -95.025  59.669\n",
            "Group Var                                   736.570 87325916.243                               \n",
            "===============================================================================================\n",
            "\n"
          ]
        }
      ]
    },
    {
      "cell_type": "code",
      "metadata": {
        "colab": {
          "base_uri": "https://localhost:8080/"
        },
        "id": "0eKxYwXctfFF",
        "outputId": "4a10e3c5-2c69-4fef-a151-b8238c189eed"
      },
      "source": [
        "yMulti = dataModelOLS['total_minutes']\n",
        "XMulti = dataModelOLS.drop(['total_minutes'], axis=1)\n",
        "\n",
        "cols = list(dataModelOLS.columns.values) \n",
        "cols.pop(cols.index('total_minutes'))\n",
        "train_XMulti, test_XMulti, train_yMulti, test_yMulti = train_test_split(XMulti.values, yMulti.values, test_size=0.15)\n",
        "test_XMulti= pd.DataFrame(test_XMulti,columns=cols)\n",
        "test_XMulti= test_XMulti.convert_dtypes()\n",
        "test_XMulti['on_demand']=test_XMulti['on_demand'].astype('bool')\n",
        "test_XMulti['seniority_41dc7c9e385c4d2b6c1f7836973951bf']=test_XMulti['seniority_41dc7c9e385c4d2b6c1f7836973951bf'].astype('uint8')\n",
        "test_XMulti['seniority_50e13ee63f086c2fe84229348bc91b5b']=test_XMulti['seniority_50e13ee63f086c2fe84229348bc91b5b'].astype('uint8')\n",
        "test_XMulti['seniority_6c90661e6d2c7579f5ce337c3391dbb9']=test_XMulti['seniority_6c90661e6d2c7579f5ce337c3391dbb9'].astype('uint8')\n",
        "test_XMulti['seniority_bb29b8d0d196b5db5a5350e5e3ae2b1f']=test_XMulti['seniority_bb29b8d0d196b5db5a5350e5e3ae2b1f'].astype('uint8')\n",
        "\n",
        "predictMulti = modelMult1.predict(test_XMulti)\n",
        "print(\"Mean absolute error multi level: {:.2f}\".format(mean_absolute_error(predictMulti,test_yMulti)))\n"
      ],
      "execution_count": 50,
      "outputs": [
        {
          "output_type": "stream",
          "name": "stdout",
          "text": [
            "Mean absolute error multi level: 19.84\n"
          ]
        }
      ]
    },
    {
      "cell_type": "markdown",
      "metadata": {
        "id": "MWO1PY_mfNIm"
      },
      "source": [
        "See, the multi-level was the best by now, having the high Log-Likelihood and also having the best absolute error.\n",
        "Obs.: We just calculated the mean absolute error to compare with the next model (XGBoost), only because we don't have how to calculate the log-likelihood of this model, but we can calculate the score and mean absolute, so to compare we will use mean absolute."
      ]
    },
    {
      "cell_type": "markdown",
      "metadata": {
        "id": "Y_43ngIcd1-a"
      },
      "source": [
        "# XGBoost (Run)"
      ]
    },
    {
      "cell_type": "code",
      "metadata": {
        "colab": {
          "base_uri": "https://localhost:8080/"
        },
        "id": "9i5q656sfkq_",
        "outputId": "0e888c55-dea5-4aa4-97ea-fa5efd0e974f"
      },
      "source": [
        "y = dataModelOLS['total_minutes']\n",
        "X = dataModelOLS.drop(['total_minutes'], axis=1).select_dtypes(exclude=['object'])\n",
        " \n",
        "train_X, test_X, train_y, test_y = train_test_split(X.values, y.values, test_size=0.15)\n",
        " \n",
        "modelXG = XGBRegressor()\n",
        " \n",
        "modelXG.fit(train_X, train_y, verbose=False)\n",
        " \n",
        "predictionsXG = modelXG.predict(test_X)\n",
        "\n",
        "print(\"Score for XGBosst: {:.2f}\" .format(modelXG.score(test_X, test_y)))\n",
        "print(\"Mean absolute error XGBoost: {:.2f}\".format(mean_absolute_error(predictionsXG, test_y)))"
      ],
      "execution_count": 51,
      "outputs": [
        {
          "output_type": "stream",
          "name": "stdout",
          "text": [
            "[19:24:30] WARNING: /workspace/src/objective/regression_obj.cu:152: reg:linear is now deprecated in favor of reg:squarederror.\n",
            "Score for XGBosst: 0.53\n",
            "Mean absolute error XGBoost: 18.22\n"
          ]
        }
      ]
    },
    {
      "cell_type": "markdown",
      "metadata": {
        "id": "QND4ySXPXZIY"
      },
      "source": [
        "See, we have the low mean absolute error with the XGBoost, and pay attention that I don't increase the parameters to have a better model. I can do this and make this model with the best fit. "
      ]
    },
    {
      "cell_type": "code",
      "metadata": {
        "colab": {
          "base_uri": "https://localhost:8080/"
        },
        "id": "S2hVkeIJhiby",
        "outputId": "b8129d81-e910-4e59-dbae-4029df18e098"
      },
      "source": [
        "lm = linear_model.LinearRegression()\n",
        "modelRegression = lm.fit(train_X, train_y)\n",
        "predictionsRegression = lm.predict(test_X)\n",
        "print(\"Score for Regression: {:.2f}\" .format(modelRegression.score(test_X, test_y)))\n",
        "print(\"Mean absolute error Regression: {:.2f}\".format(mean_absolute_error(predictionsRegression, test_y)))\n"
      ],
      "execution_count": 52,
      "outputs": [
        {
          "output_type": "stream",
          "name": "stdout",
          "text": [
            "Score for Regression: 0.41\n",
            "Mean absolute error Regression: 20.61\n"
          ]
        }
      ]
    },
    {
      "cell_type": "markdown",
      "metadata": {
        "id": "_-h-tJN_XqTT"
      },
      "source": [
        "Just to compare with the sklearn linear regression, we have the best error than the OLS and Multi-Level, but not better than XGBoost.\n"
      ]
    },
    {
      "cell_type": "markdown",
      "metadata": {
        "id": "Ft7CkRZ407_I"
      },
      "source": [
        "# Predict Model (Run)"
      ]
    },
    {
      "cell_type": "markdown",
      "metadata": {
        "id": "9nDC0t7Ihej1"
      },
      "source": [
        "Now let's organize the data to use the orders that don't have the total_minutes. We only are using in the submission file the values that have all parameters that need to predict. "
      ]
    },
    {
      "cell_type": "code",
      "metadata": {
        "id": "7zJrrEgz4qqE"
      },
      "source": [
        "orders['total_minutes'] = orders['total_minutes'].replace(np.nan, 0)\n",
        "orders_predict =orders[orders['total_minutes']==0]\n",
        "dfOrdersWithOrderProductPredict = pd.merge(orders_predict,order_product_sum,'left',\"order_id\")\n",
        "dfOrdersWithOrderProductWithShopperPredict = pd.merge(dfOrdersWithOrderProductPredict,shoppers,'inner',\"shopper_id\")\n",
        "dataModelPredict = pd.merge(dfOrdersWithOrderProductWithShopperPredict,storeRenamed,'inner',\"store_branch_id\")\n",
        "dataModelPredict.drop({\"shopper_id\",\"store_branch_id\",\"store_id\",\"promised_time\"},axis='columns',inplace=True)\n",
        "dataModelPredict['distance']=dataModelPredict.apply(geoDist, axis=1)\n",
        "dataModelPredict.set_index('order_id', inplace=True)\n",
        "dataModelPredictDummies = pd.get_dummies(dataModelPredict)\n"
      ],
      "execution_count": 53,
      "outputs": []
    },
    {
      "cell_type": "code",
      "metadata": {
        "id": "AM-jqtm7-lUc"
      },
      "source": [
        "y_predict = dataModelPredictDummies.drop('total_minutes',axis='columns',inplace=False)"
      ],
      "execution_count": 54,
      "outputs": []
    },
    {
      "cell_type": "code",
      "metadata": {
        "colab": {
          "base_uri": "https://localhost:8080/"
        },
        "id": "Sqpri2bO-BYs",
        "outputId": "9d5888db-8d6d-423a-8e0b-e99ba801767d"
      },
      "source": [
        "modelMult1.predict(y_predict)"
      ],
      "execution_count": 55,
      "outputs": [
        {
          "output_type": "execute_result",
          "data": {
            "text/plain": [
              "order_id\n",
              "3a226ea48debc0a7ae9950d5540f2f34     77.242124\n",
              "57f8d47123cd74908630c42e6a1abfb9     79.633697\n",
              "bc9909874db80c80591f88743a76587d    116.677478\n",
              "a8f07136d11ff8d9e8452cb64397656d     69.724644\n",
              "ab1433010e450de12baae458a11cf764    192.316354\n",
              "                                       ...    \n",
              "5b7a7e77630db080e35d2d6e4d04b373     65.139817\n",
              "038ebf3f7fb4fe8c88769468d6cf4778           NaN\n",
              "3d8cc5b44a07130eeacc02e139f5e1a6     56.226773\n",
              "2ed4b645df9ab97ccf13c38264f31519     81.704070\n",
              "fa77da3cb82b5245e95eaa15e2b640f2     75.183257\n",
              "Length: 2000, dtype: float64"
            ]
          },
          "metadata": {},
          "execution_count": 55
        }
      ]
    },
    {
      "cell_type": "code",
      "metadata": {
        "id": "QeURtj-5hfXu"
      },
      "source": [
        "dataModelPredict['total_minutes']= modelMult1.predict(y_predict)\n",
        "dataModelPredict.to_csv('submissionFile.csv')"
      ],
      "execution_count": 56,
      "outputs": []
    },
    {
      "cell_type": "code",
      "metadata": {
        "id": "ui3HKPFYti7v"
      },
      "source": [
        "y_predictClean = y_predict.reset_index()"
      ],
      "execution_count": 57,
      "outputs": []
    },
    {
      "cell_type": "code",
      "metadata": {
        "id": "YwOPxFXA4q-b"
      },
      "source": [
        "y_predictClean.drop('order_id', axis='columns', inplace=True)"
      ],
      "execution_count": 58,
      "outputs": []
    },
    {
      "cell_type": "code",
      "metadata": {
        "colab": {
          "base_uri": "https://localhost:8080/",
          "height": 443
        },
        "id": "X5VIwhxa5jPs",
        "outputId": "71425795-4e2e-4422-abf7-f15fa6a818b7"
      },
      "source": [
        "y_predictClean"
      ],
      "execution_count": 59,
      "outputs": [
        {
          "output_type": "execute_result",
          "data": {
            "text/html": [
              "<div>\n",
              "<style scoped>\n",
              "    .dataframe tbody tr th:only-of-type {\n",
              "        vertical-align: middle;\n",
              "    }\n",
              "\n",
              "    .dataframe tbody tr th {\n",
              "        vertical-align: top;\n",
              "    }\n",
              "\n",
              "    .dataframe thead th {\n",
              "        text-align: right;\n",
              "    }\n",
              "</style>\n",
              "<table border=\"1\" class=\"dataframe\">\n",
              "  <thead>\n",
              "    <tr style=\"text-align: right;\">\n",
              "      <th></th>\n",
              "      <th>lat</th>\n",
              "      <th>lng</th>\n",
              "      <th>on_demand</th>\n",
              "      <th>quantity</th>\n",
              "      <th>found_rate</th>\n",
              "      <th>picking_speed</th>\n",
              "      <th>accepted_rate</th>\n",
              "      <th>rating</th>\n",
              "      <th>lat_store</th>\n",
              "      <th>lng_store</th>\n",
              "      <th>distance</th>\n",
              "      <th>seniority_41dc7c9e385c4d2b6c1f7836973951bf</th>\n",
              "      <th>seniority_50e13ee63f086c2fe84229348bc91b5b</th>\n",
              "      <th>seniority_6c90661e6d2c7579f5ce337c3391dbb9</th>\n",
              "      <th>seniority_bb29b8d0d196b5db5a5350e5e3ae2b1f</th>\n",
              "    </tr>\n",
              "  </thead>\n",
              "  <tbody>\n",
              "    <tr>\n",
              "      <th>0</th>\n",
              "      <td>-32.987022</td>\n",
              "      <td>-71.544842</td>\n",
              "      <td>True</td>\n",
              "      <td>18.000</td>\n",
              "      <td>0.8313</td>\n",
              "      <td>2.57</td>\n",
              "      <td>0.76</td>\n",
              "      <td>4.92</td>\n",
              "      <td>-33.008213</td>\n",
              "      <td>-71.545615</td>\n",
              "      <td>2.351240</td>\n",
              "      <td>0</td>\n",
              "      <td>1</td>\n",
              "      <td>0</td>\n",
              "      <td>0</td>\n",
              "    </tr>\n",
              "    <tr>\n",
              "      <th>1</th>\n",
              "      <td>-32.978695</td>\n",
              "      <td>-71.537517</td>\n",
              "      <td>True</td>\n",
              "      <td>42.000</td>\n",
              "      <td>0.8460</td>\n",
              "      <td>1.23</td>\n",
              "      <td>0.92</td>\n",
              "      <td>4.80</td>\n",
              "      <td>-33.008213</td>\n",
              "      <td>-71.545615</td>\n",
              "      <td>3.360024</td>\n",
              "      <td>0</td>\n",
              "      <td>0</td>\n",
              "      <td>1</td>\n",
              "      <td>0</td>\n",
              "    </tr>\n",
              "    <tr>\n",
              "      <th>2</th>\n",
              "      <td>-33.017965</td>\n",
              "      <td>-71.551822</td>\n",
              "      <td>False</td>\n",
              "      <td>90.800</td>\n",
              "      <td>0.8365</td>\n",
              "      <td>1.37</td>\n",
              "      <td>1.00</td>\n",
              "      <td>4.68</td>\n",
              "      <td>-33.008213</td>\n",
              "      <td>-71.545615</td>\n",
              "      <td>1.227264</td>\n",
              "      <td>0</td>\n",
              "      <td>0</td>\n",
              "      <td>1</td>\n",
              "      <td>0</td>\n",
              "    </tr>\n",
              "    <tr>\n",
              "      <th>3</th>\n",
              "      <td>-32.984657</td>\n",
              "      <td>-71.542678</td>\n",
              "      <td>True</td>\n",
              "      <td>39.180</td>\n",
              "      <td>0.8656</td>\n",
              "      <td>1.14</td>\n",
              "      <td>0.84</td>\n",
              "      <td>4.68</td>\n",
              "      <td>-33.008213</td>\n",
              "      <td>-71.545615</td>\n",
              "      <td>2.626798</td>\n",
              "      <td>0</td>\n",
              "      <td>1</td>\n",
              "      <td>0</td>\n",
              "      <td>0</td>\n",
              "    </tr>\n",
              "    <tr>\n",
              "      <th>4</th>\n",
              "      <td>-32.984762</td>\n",
              "      <td>-71.542657</td>\n",
              "      <td>False</td>\n",
              "      <td>237.999</td>\n",
              "      <td>0.8861</td>\n",
              "      <td>1.34</td>\n",
              "      <td>1.00</td>\n",
              "      <td>4.96</td>\n",
              "      <td>-33.008213</td>\n",
              "      <td>-71.545615</td>\n",
              "      <td>2.615429</td>\n",
              "      <td>0</td>\n",
              "      <td>0</td>\n",
              "      <td>1</td>\n",
              "      <td>0</td>\n",
              "    </tr>\n",
              "    <tr>\n",
              "      <th>...</th>\n",
              "      <td>...</td>\n",
              "      <td>...</td>\n",
              "      <td>...</td>\n",
              "      <td>...</td>\n",
              "      <td>...</td>\n",
              "      <td>...</td>\n",
              "      <td>...</td>\n",
              "      <td>...</td>\n",
              "      <td>...</td>\n",
              "      <td>...</td>\n",
              "      <td>...</td>\n",
              "      <td>...</td>\n",
              "      <td>...</td>\n",
              "      <td>...</td>\n",
              "      <td>...</td>\n",
              "    </tr>\n",
              "    <tr>\n",
              "      <th>1995</th>\n",
              "      <td>-33.329951</td>\n",
              "      <td>-70.529046</td>\n",
              "      <td>False</td>\n",
              "      <td>12.200</td>\n",
              "      <td>0.8568</td>\n",
              "      <td>1.30</td>\n",
              "      <td>1.00</td>\n",
              "      <td>4.76</td>\n",
              "      <td>-33.340888</td>\n",
              "      <td>-70.521378</td>\n",
              "      <td>1.407453</td>\n",
              "      <td>0</td>\n",
              "      <td>0</td>\n",
              "      <td>1</td>\n",
              "      <td>0</td>\n",
              "    </tr>\n",
              "    <tr>\n",
              "      <th>1996</th>\n",
              "      <td>-33.372346</td>\n",
              "      <td>-70.506877</td>\n",
              "      <td>True</td>\n",
              "      <td>NaN</td>\n",
              "      <td>0.8794</td>\n",
              "      <td>1.49</td>\n",
              "      <td>0.96</td>\n",
              "      <td>4.96</td>\n",
              "      <td>-33.376372</td>\n",
              "      <td>-70.525559</td>\n",
              "      <td>1.794935</td>\n",
              "      <td>1</td>\n",
              "      <td>0</td>\n",
              "      <td>0</td>\n",
              "      <td>0</td>\n",
              "    </tr>\n",
              "    <tr>\n",
              "      <th>1997</th>\n",
              "      <td>-33.406006</td>\n",
              "      <td>-70.578381</td>\n",
              "      <td>True</td>\n",
              "      <td>3.000</td>\n",
              "      <td>0.8493</td>\n",
              "      <td>1.57</td>\n",
              "      <td>0.60</td>\n",
              "      <td>4.76</td>\n",
              "      <td>-33.413616</td>\n",
              "      <td>-70.558354</td>\n",
              "      <td>2.045149</td>\n",
              "      <td>0</td>\n",
              "      <td>1</td>\n",
              "      <td>0</td>\n",
              "      <td>0</td>\n",
              "    </tr>\n",
              "    <tr>\n",
              "      <th>1998</th>\n",
              "      <td>-33.435075</td>\n",
              "      <td>-70.532403</td>\n",
              "      <td>False</td>\n",
              "      <td>1.000</td>\n",
              "      <td>0.8811</td>\n",
              "      <td>2.92</td>\n",
              "      <td>0.96</td>\n",
              "      <td>4.88</td>\n",
              "      <td>-33.409821</td>\n",
              "      <td>-70.567451</td>\n",
              "      <td>4.297741</td>\n",
              "      <td>1</td>\n",
              "      <td>0</td>\n",
              "      <td>0</td>\n",
              "      <td>0</td>\n",
              "    </tr>\n",
              "    <tr>\n",
              "      <th>1999</th>\n",
              "      <td>-33.404454</td>\n",
              "      <td>-70.555823</td>\n",
              "      <td>True</td>\n",
              "      <td>3.000</td>\n",
              "      <td>0.7826</td>\n",
              "      <td>3.38</td>\n",
              "      <td>0.84</td>\n",
              "      <td>4.92</td>\n",
              "      <td>-33.416579</td>\n",
              "      <td>-70.565224</td>\n",
              "      <td>1.604154</td>\n",
              "      <td>0</td>\n",
              "      <td>1</td>\n",
              "      <td>0</td>\n",
              "      <td>0</td>\n",
              "    </tr>\n",
              "  </tbody>\n",
              "</table>\n",
              "<p>2000 rows × 15 columns</p>\n",
              "</div>"
            ],
            "text/plain": [
              "            lat  ...  seniority_bb29b8d0d196b5db5a5350e5e3ae2b1f\n",
              "0    -32.987022  ...                                           0\n",
              "1    -32.978695  ...                                           0\n",
              "2    -33.017965  ...                                           0\n",
              "3    -32.984657  ...                                           0\n",
              "4    -32.984762  ...                                           0\n",
              "...         ...  ...                                         ...\n",
              "1995 -33.329951  ...                                           0\n",
              "1996 -33.372346  ...                                           0\n",
              "1997 -33.406006  ...                                           0\n",
              "1998 -33.435075  ...                                           0\n",
              "1999 -33.404454  ...                                           0\n",
              "\n",
              "[2000 rows x 15 columns]"
            ]
          },
          "metadata": {},
          "execution_count": 59
        }
      ]
    },
    {
      "cell_type": "code",
      "metadata": {
        "id": "TtvVCAWx6sPy"
      },
      "source": [
        "y_predictClean.fillna(y_predictClean.mean(),inplace=True)"
      ],
      "execution_count": 60,
      "outputs": []
    },
    {
      "cell_type": "code",
      "metadata": {
        "id": "fcl-jh8C6UMH"
      },
      "source": [
        "test_XGB = y_predictClean.to_numpy()"
      ],
      "execution_count": 61,
      "outputs": []
    },
    {
      "cell_type": "code",
      "metadata": {
        "id": "S8MduQOliGkJ"
      },
      "source": [
        "y_predictClean['total_minutes']= modelXG.predict(test_XGB)"
      ],
      "execution_count": 62,
      "outputs": []
    },
    {
      "cell_type": "code",
      "metadata": {
        "colab": {
          "base_uri": "https://localhost:8080/",
          "height": 226
        },
        "id": "l9cMNiFa7VgX",
        "outputId": "b9b38af8-b12a-405a-909c-ef374892db63"
      },
      "source": [
        "y_predictClean.head()"
      ],
      "execution_count": 63,
      "outputs": [
        {
          "output_type": "execute_result",
          "data": {
            "text/html": [
              "<div>\n",
              "<style scoped>\n",
              "    .dataframe tbody tr th:only-of-type {\n",
              "        vertical-align: middle;\n",
              "    }\n",
              "\n",
              "    .dataframe tbody tr th {\n",
              "        vertical-align: top;\n",
              "    }\n",
              "\n",
              "    .dataframe thead th {\n",
              "        text-align: right;\n",
              "    }\n",
              "</style>\n",
              "<table border=\"1\" class=\"dataframe\">\n",
              "  <thead>\n",
              "    <tr style=\"text-align: right;\">\n",
              "      <th></th>\n",
              "      <th>lat</th>\n",
              "      <th>lng</th>\n",
              "      <th>on_demand</th>\n",
              "      <th>quantity</th>\n",
              "      <th>found_rate</th>\n",
              "      <th>picking_speed</th>\n",
              "      <th>accepted_rate</th>\n",
              "      <th>rating</th>\n",
              "      <th>lat_store</th>\n",
              "      <th>lng_store</th>\n",
              "      <th>distance</th>\n",
              "      <th>seniority_41dc7c9e385c4d2b6c1f7836973951bf</th>\n",
              "      <th>seniority_50e13ee63f086c2fe84229348bc91b5b</th>\n",
              "      <th>seniority_6c90661e6d2c7579f5ce337c3391dbb9</th>\n",
              "      <th>seniority_bb29b8d0d196b5db5a5350e5e3ae2b1f</th>\n",
              "      <th>total_minutes</th>\n",
              "    </tr>\n",
              "  </thead>\n",
              "  <tbody>\n",
              "    <tr>\n",
              "      <th>0</th>\n",
              "      <td>-32.987022</td>\n",
              "      <td>-71.544842</td>\n",
              "      <td>True</td>\n",
              "      <td>18.000</td>\n",
              "      <td>0.8313</td>\n",
              "      <td>2.57</td>\n",
              "      <td>0.76</td>\n",
              "      <td>4.92</td>\n",
              "      <td>-33.008213</td>\n",
              "      <td>-71.545615</td>\n",
              "      <td>2.351240</td>\n",
              "      <td>0</td>\n",
              "      <td>1</td>\n",
              "      <td>0</td>\n",
              "      <td>0</td>\n",
              "      <td>76.101685</td>\n",
              "    </tr>\n",
              "    <tr>\n",
              "      <th>1</th>\n",
              "      <td>-32.978695</td>\n",
              "      <td>-71.537517</td>\n",
              "      <td>True</td>\n",
              "      <td>42.000</td>\n",
              "      <td>0.8460</td>\n",
              "      <td>1.23</td>\n",
              "      <td>0.92</td>\n",
              "      <td>4.80</td>\n",
              "      <td>-33.008213</td>\n",
              "      <td>-71.545615</td>\n",
              "      <td>3.360024</td>\n",
              "      <td>0</td>\n",
              "      <td>0</td>\n",
              "      <td>1</td>\n",
              "      <td>0</td>\n",
              "      <td>73.113121</td>\n",
              "    </tr>\n",
              "    <tr>\n",
              "      <th>2</th>\n",
              "      <td>-33.017965</td>\n",
              "      <td>-71.551822</td>\n",
              "      <td>False</td>\n",
              "      <td>90.800</td>\n",
              "      <td>0.8365</td>\n",
              "      <td>1.37</td>\n",
              "      <td>1.00</td>\n",
              "      <td>4.68</td>\n",
              "      <td>-33.008213</td>\n",
              "      <td>-71.545615</td>\n",
              "      <td>1.227264</td>\n",
              "      <td>0</td>\n",
              "      <td>0</td>\n",
              "      <td>1</td>\n",
              "      <td>0</td>\n",
              "      <td>114.123528</td>\n",
              "    </tr>\n",
              "    <tr>\n",
              "      <th>3</th>\n",
              "      <td>-32.984657</td>\n",
              "      <td>-71.542678</td>\n",
              "      <td>True</td>\n",
              "      <td>39.180</td>\n",
              "      <td>0.8656</td>\n",
              "      <td>1.14</td>\n",
              "      <td>0.84</td>\n",
              "      <td>4.68</td>\n",
              "      <td>-33.008213</td>\n",
              "      <td>-71.545615</td>\n",
              "      <td>2.626798</td>\n",
              "      <td>0</td>\n",
              "      <td>1</td>\n",
              "      <td>0</td>\n",
              "      <td>0</td>\n",
              "      <td>71.342545</td>\n",
              "    </tr>\n",
              "    <tr>\n",
              "      <th>4</th>\n",
              "      <td>-32.984762</td>\n",
              "      <td>-71.542657</td>\n",
              "      <td>False</td>\n",
              "      <td>237.999</td>\n",
              "      <td>0.8861</td>\n",
              "      <td>1.34</td>\n",
              "      <td>1.00</td>\n",
              "      <td>4.96</td>\n",
              "      <td>-33.008213</td>\n",
              "      <td>-71.545615</td>\n",
              "      <td>2.615429</td>\n",
              "      <td>0</td>\n",
              "      <td>0</td>\n",
              "      <td>1</td>\n",
              "      <td>0</td>\n",
              "      <td>138.496246</td>\n",
              "    </tr>\n",
              "  </tbody>\n",
              "</table>\n",
              "</div>"
            ],
            "text/plain": [
              "         lat  ...  total_minutes\n",
              "0 -32.987022  ...      76.101685\n",
              "1 -32.978695  ...      73.113121\n",
              "2 -33.017965  ...     114.123528\n",
              "3 -32.984657  ...      71.342545\n",
              "4 -32.984762  ...     138.496246\n",
              "\n",
              "[5 rows x 16 columns]"
            ]
          },
          "metadata": {},
          "execution_count": 63
        }
      ]
    },
    {
      "cell_type": "markdown",
      "metadata": {
        "id": "7_rEwTH7YbuI"
      },
      "source": [
        "As we saw, the best model is the XGBoost, the kaggle knows this!\n",
        "So my submission will be selected after using the xgboost and we know that is the best of the models that I tested. "
      ]
    },
    {
      "cell_type": "code",
      "metadata": {
        "id": "mlEZ0ccEYLkS"
      },
      "source": [
        "y_predictClean.to_csv('submissionFileXGBoost.csv')"
      ],
      "execution_count": 64,
      "outputs": []
    },
    {
      "cell_type": "markdown",
      "metadata": {
        "id": "SsWbKhFwZeX6"
      },
      "source": [
        "# Conclusion\n",
        "After working with the data wrangling and using the EDA to understand the data and also prepare, the main important step for a data scientist, we compare some models to find the best one and we found that the best is the XGBoost. \n",
        "\n",
        "As next steps, we can include more parameters inside the XGBoost to find the best fit at all, and also we can use the Kmeans to separate in some kind of groups, use lat and lng for example, to calculate separated each one model. \n",
        "\n",
        "Finally, the submissionFileXGBoost is the result of the model, and we can also use this model to fit any order with the parameters that we need. For the future, we can go with the techniques of MLops and include this model inside a class and start to update the parameters. "
      ]
    },
    {
      "cell_type": "markdown",
      "metadata": {
        "id": "xJiMHyGYSGAp"
      },
      "source": [
        "# New way to get results, not used:"
      ]
    },
    {
      "cell_type": "markdown",
      "metadata": {
        "id": "EmXHcZg8ZAN5"
      },
      "source": [
        "This section was some of my thoughts, but I din't go already with this, but I think is a good way to continue this problem, and can give more insides for how want to use the kmeans as a way to analyse separeted. "
      ]
    },
    {
      "cell_type": "code",
      "metadata": {
        "colab": {
          "base_uri": "https://localhost:8080/",
          "height": 312
        },
        "id": "vA_oXfJyp0Na",
        "outputId": "e1b078cd-b5c6-4c59-8266-f06fc147f217"
      },
      "source": [
        "plt.scatter(orders[:]['lat'],orders[:]['lng'])\n",
        "plt.xlabel('Latitude')\n",
        "plt.ylabel('Longitude')\n",
        "plt.title('Lat X Lng graph')"
      ],
      "execution_count": 65,
      "outputs": [
        {
          "output_type": "execute_result",
          "data": {
            "text/plain": [
              "Text(0.5, 1.0, 'Lat X Lng graph')"
            ]
          },
          "metadata": {},
          "execution_count": 65
        },
        {
          "output_type": "display_data",
          "data": {
            "image/png": "[encoded data removed]",
            "text/plain": [
              "<Figure size 432x288 with 1 Axes>"
            ]
          },
          "metadata": {
            "needs_background": "light"
          }
        }
      ]
    },
    {
      "cell_type": "markdown",
      "metadata": {
        "id": "7jlzOP_swMyt"
      },
      "source": [
        "Here we can see that we have 4 group so let's use one K means with 4 clusters to define the values. "
      ]
    },
    {
      "cell_type": "markdown",
      "metadata": {
        "id": "9Y_0h-FPweZt"
      },
      "source": [
        "![image.png](data:image/png;base64,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)"
      ]
    },
    {
      "cell_type": "code",
      "metadata": {
        "colab": {
          "base_uri": "https://localhost:8080/",
          "height": 423
        },
        "id": "0EmMsPDu0C5J",
        "outputId": "a8810896-2c62-4ce5-eff2-275bdb32e69e"
      },
      "source": [
        "orders[['lat','lng']]"
      ],
      "execution_count": 66,
      "outputs": [
        {
          "output_type": "execute_result",
          "data": {
            "text/html": [
              "<div>\n",
              "<style scoped>\n",
              "    .dataframe tbody tr th:only-of-type {\n",
              "        vertical-align: middle;\n",
              "    }\n",
              "\n",
              "    .dataframe tbody tr th {\n",
              "        vertical-align: top;\n",
              "    }\n",
              "\n",
              "    .dataframe thead th {\n",
              "        text-align: right;\n",
              "    }\n",
              "</style>\n",
              "<table border=\"1\" class=\"dataframe\">\n",
              "  <thead>\n",
              "    <tr style=\"text-align: right;\">\n",
              "      <th></th>\n",
              "      <th>lat</th>\n",
              "      <th>lng</th>\n",
              "    </tr>\n",
              "  </thead>\n",
              "  <tbody>\n",
              "    <tr>\n",
              "      <th>0</th>\n",
              "      <td>-33.501675</td>\n",
              "      <td>-70.579369</td>\n",
              "    </tr>\n",
              "    <tr>\n",
              "      <th>1</th>\n",
              "      <td>-33.440584</td>\n",
              "      <td>-70.556283</td>\n",
              "    </tr>\n",
              "    <tr>\n",
              "      <th>2</th>\n",
              "      <td>-32.987022</td>\n",
              "      <td>-71.544842</td>\n",
              "    </tr>\n",
              "    <tr>\n",
              "      <th>3</th>\n",
              "      <td>-33.328075</td>\n",
              "      <td>-70.512659</td>\n",
              "    </tr>\n",
              "    <tr>\n",
              "      <th>4</th>\n",
              "      <td>-33.403239</td>\n",
              "      <td>-70.564020</td>\n",
              "    </tr>\n",
              "    <tr>\n",
              "      <th>...</th>\n",
              "      <td>...</td>\n",
              "      <td>...</td>\n",
              "    </tr>\n",
              "    <tr>\n",
              "      <th>9995</th>\n",
              "      <td>-33.417677</td>\n",
              "      <td>-70.508377</td>\n",
              "    </tr>\n",
              "    <tr>\n",
              "      <th>9996</th>\n",
              "      <td>-33.432885</td>\n",
              "      <td>-70.646795</td>\n",
              "    </tr>\n",
              "    <tr>\n",
              "      <th>9997</th>\n",
              "      <td>-33.424562</td>\n",
              "      <td>-70.582943</td>\n",
              "    </tr>\n",
              "    <tr>\n",
              "      <th>9998</th>\n",
              "      <td>-33.413806</td>\n",
              "      <td>-70.598500</td>\n",
              "    </tr>\n",
              "    <tr>\n",
              "      <th>9999</th>\n",
              "      <td>-33.387383</td>\n",
              "      <td>-70.502880</td>\n",
              "    </tr>\n",
              "  </tbody>\n",
              "</table>\n",
              "<p>10000 rows × 2 columns</p>\n",
              "</div>"
            ],
            "text/plain": [
              "            lat        lng\n",
              "0    -33.501675 -70.579369\n",
              "1    -33.440584 -70.556283\n",
              "2    -32.987022 -71.544842\n",
              "3    -33.328075 -70.512659\n",
              "4    -33.403239 -70.564020\n",
              "...         ...        ...\n",
              "9995 -33.417677 -70.508377\n",
              "9996 -33.432885 -70.646795\n",
              "9997 -33.424562 -70.582943\n",
              "9998 -33.413806 -70.598500\n",
              "9999 -33.387383 -70.502880\n",
              "\n",
              "[10000 rows x 2 columns]"
            ]
          },
          "metadata": {},
          "execution_count": 66
        }
      ]
    },
    {
      "cell_type": "code",
      "metadata": {
        "id": "1aeKSztut3Kv"
      },
      "source": [
        "from sklearn.cluster import KMeans\n",
        "kmeans = KMeans(n_clusters= 4,random_state=42)\n",
        "kmeans.fit(orders[['lat','lng']])\n",
        "labels = kmeans.labels_\n",
        "results = pd.DataFrame(data=labels, columns=['cluster'], index=orders.order_id)"
      ],
      "execution_count": 67,
      "outputs": []
    },
    {
      "cell_type": "code",
      "metadata": {
        "id": "_qZXq9vb4K98"
      },
      "source": [
        "results['order_id']=results.index\n",
        "dfResult = spark.createDataFrame(results)\n",
        "dfOrdersSpark = spark.createDataFrame(orders)\n"
      ],
      "execution_count": 68,
      "outputs": []
    },
    {
      "cell_type": "code",
      "metadata": {
        "id": "hdgLx2HN57p4"
      },
      "source": [
        "dfOrderWithCluster = dfOrdersSpark.join(dfResult,(\"order_id\"))"
      ],
      "execution_count": 69,
      "outputs": []
    },
    {
      "cell_type": "code",
      "metadata": {
        "id": "U05_Hb8L2qZt",
        "colab": {
          "base_uri": "https://localhost:8080/"
        },
        "outputId": "9ec642b1-2253-4be3-cef4-1d20e3983277"
      },
      "source": [
        "dfOrderWithCluster.printSchema()"
      ],
      "execution_count": 70,
      "outputs": [
        {
          "output_type": "stream",
          "name": "stdout",
          "text": [
            "root\n",
            " |-- order_id: string (nullable = true)\n",
            " |-- lat: double (nullable = true)\n",
            " |-- lng: double (nullable = true)\n",
            " |-- promised_time: string (nullable = true)\n",
            " |-- on_demand: boolean (nullable = true)\n",
            " |-- shopper_id: string (nullable = true)\n",
            " |-- store_branch_id: string (nullable = true)\n",
            " |-- total_minutes: double (nullable = true)\n",
            " |-- cluster: long (nullable = true)\n",
            "\n"
          ]
        }
      ]
    },
    {
      "cell_type": "code",
      "metadata": {
        "id": "YYmZv7WN4om7"
      },
      "source": [
        "order_Df_pandas = dfOrderWithCluster.toPandas()"
      ],
      "execution_count": 71,
      "outputs": []
    },
    {
      "cell_type": "code",
      "metadata": {
        "id": "N0imglxl4vQn",
        "colab": {
          "base_uri": "https://localhost:8080/"
        },
        "outputId": "21cf71f6-b928-4516-f550-b4031916eef6"
      },
      "source": [
        "dfOrderWithCluster.groupBy(\"cluster\")"
      ],
      "execution_count": 72,
      "outputs": [
        {
          "output_type": "execute_result",
          "data": {
            "text/plain": [
              "<pyspark.sql.group.GroupedData at 0x7f09a4911f10>"
            ]
          },
          "metadata": {},
          "execution_count": 72
        }
      ]
    },
    {
      "cell_type": "code",
      "metadata": {
        "id": "wbeWHByI6LOD",
        "colab": {
          "base_uri": "https://localhost:8080/"
        },
        "outputId": "d729eeca-69bc-4b61-c567-630c1e3ed4ca"
      },
      "source": [
        "dfOrderWithCluster"
      ],
      "execution_count": 73,
      "outputs": [
        {
          "output_type": "execute_result",
          "data": {
            "text/plain": [
              "DataFrame[order_id: string, lat: double, lng: double, promised_time: string, on_demand: boolean, shopper_id: string, store_branch_id: string, total_minutes: double, cluster: bigint]"
            ]
          },
          "metadata": {},
          "execution_count": 73
        }
      ]
    },
    {
      "cell_type": "code",
      "metadata": {
        "id": "FN8enJJw8xX7",
        "colab": {
          "base_uri": "https://localhost:8080/"
        },
        "outputId": "f9d98590-328a-4467-a1c0-aa7e29f38ff9"
      },
      "source": [
        "dfOrderWithCluster.groupBy(\"cluster\").agg({\"total_minutes\":\"avg\"}).show()"
      ],
      "execution_count": 75,
      "outputs": [
        {
          "output_type": "stream",
          "name": "stdout",
          "text": [
            "+-------+------------------+\n",
            "|cluster|avg(total_minutes)|\n",
            "+-------+------------------+\n",
            "|      0| 64.81393433342411|\n",
            "|      1| 67.50159090704807|\n",
            "|      3| 63.97321400579711|\n",
            "|      2| 74.39799742592594|\n",
            "+-------+------------------+\n",
            "\n"
          ]
        }
      ]
    },
    {
      "cell_type": "code",
      "metadata": {
        "id": "phuKf0Kl6pmO",
        "colab": {
          "base_uri": "https://localhost:8080/"
        },
        "outputId": "a0f9e61b-128c-4616-ffe6-3eda6aabd73b"
      },
      "source": [
        "from pyspark.sql import functions as F\n",
        "dfOrderWithCluster.filter(dfOrderWithCluster.cluster == 1).agg(F.avg('total_minutes')).show()"
      ],
      "execution_count": 76,
      "outputs": [
        {
          "output_type": "stream",
          "name": "stdout",
          "text": [
            "+------------------+\n",
            "|avg(total_minutes)|\n",
            "+------------------+\n",
            "| 67.50159090704807|\n",
            "+------------------+\n",
            "\n"
          ]
        }
      ]
    },
    {
      "cell_type": "code",
      "metadata": {
        "id": "gi1KoKcS4cEk",
        "colab": {
          "base_uri": "https://localhost:8080/"
        },
        "outputId": "c11f99be-6b67-40bb-a82e-3e527760e57f"
      },
      "source": [
        "results.info()"
      ],
      "execution_count": 77,
      "outputs": [
        {
          "output_type": "stream",
          "name": "stdout",
          "text": [
            "<class 'pandas.core.frame.DataFrame'>\n",
            "Index: 10000 entries, e750294655c2c7c34d83cc3181c09de4 to ac9520e37e420842ce36b65a71b48954\n",
            "Data columns (total 2 columns):\n",
            " #   Column    Non-Null Count  Dtype \n",
            "---  ------    --------------  ----- \n",
            " 0   cluster   10000 non-null  int32 \n",
            " 1   order_id  10000 non-null  object\n",
            "dtypes: int32(1), object(1)\n",
            "memory usage: 195.3+ KB\n"
          ]
        }
      ]
    },
    {
      "cell_type": "code",
      "metadata": {
        "id": "SFNkaolXqpzq",
        "colab": {
          "base_uri": "https://localhost:8080/",
          "height": 312
        },
        "outputId": "d75e6947-047b-410c-84f7-e391078529a9"
      },
      "source": [
        "plt.scatter(shoppers[:]['seniority'],shoppers[:]['picking_speed'])\n",
        "plt.xlabel('seniority')\n",
        "plt.ylabel('Longitude')\n",
        "plt.title('Lat X Lng graph')"
      ],
      "execution_count": 78,
      "outputs": [
        {
          "output_type": "execute_result",
          "data": {
            "text/plain": [
              "Text(0.5, 1.0, 'Lat X Lng graph')"
            ]
          },
          "metadata": {},
          "execution_count": 78
        },
        {
          "output_type": "display_data",
          "data": {
            "image/png": "[encoded data removed]",
            "text/plain": [
              "<Figure size 432x288 with 1 Axes>"
            ]
          },
          "metadata": {
            "needs_background": "light"
          }
        }
      ]
    }
  ]
}